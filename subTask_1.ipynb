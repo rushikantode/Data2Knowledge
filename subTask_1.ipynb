{
  "cells": [
    {
      "cell_type": "markdown",
      "metadata": {
        "id": "view-in-github",
        "colab_type": "text"
      },
      "source": [
        "<a href=\"https://colab.research.google.com/github/rushikantode/Data2Knowledge/blob/main/subTask_1.ipynb\" target=\"_parent\"><img src=\"https://colab.research.google.com/assets/colab-badge.svg\" alt=\"Open In Colab\"/></a>"
      ]
    },
    {
      "cell_type": "code",
      "source": [
        "!pip install selenium"
      ],
      "metadata": {
        "colab": {
          "base_uri": "https://localhost:8080/"
        },
        "id": "KirEgThAYk4h",
        "outputId": "b3d26caf-60d6-4e47-da24-6408dfcae0ec"
      },
      "execution_count": 124,
      "outputs": [
        {
          "output_type": "stream",
          "name": "stdout",
          "text": [
            "Looking in indexes: https://pypi.org/simple, https://us-python.pkg.dev/colab-wheels/public/simple/\n",
            "Requirement already satisfied: selenium in /usr/local/lib/python3.8/dist-packages (4.8.0)\n",
            "Requirement already satisfied: certifi>=2021.10.8 in /usr/local/lib/python3.8/dist-packages (from selenium) (2022.12.7)\n",
            "Requirement already satisfied: urllib3[socks]~=1.26 in /usr/local/lib/python3.8/dist-packages (from selenium) (1.26.14)\n",
            "Requirement already satisfied: trio-websocket~=0.9 in /usr/local/lib/python3.8/dist-packages (from selenium) (0.9.2)\n",
            "Requirement already satisfied: trio~=0.17 in /usr/local/lib/python3.8/dist-packages (from selenium) (0.22.0)\n",
            "Requirement already satisfied: outcome in /usr/local/lib/python3.8/dist-packages (from trio~=0.17->selenium) (1.2.0)\n",
            "Requirement already satisfied: sniffio in /usr/local/lib/python3.8/dist-packages (from trio~=0.17->selenium) (1.3.0)\n",
            "Requirement already satisfied: idna in /usr/local/lib/python3.8/dist-packages (from trio~=0.17->selenium) (2.10)\n",
            "Requirement already satisfied: async-generator>=1.9 in /usr/local/lib/python3.8/dist-packages (from trio~=0.17->selenium) (1.10)\n",
            "Requirement already satisfied: exceptiongroup>=1.0.0rc9 in /usr/local/lib/python3.8/dist-packages (from trio~=0.17->selenium) (1.1.0)\n",
            "Requirement already satisfied: sortedcontainers in /usr/local/lib/python3.8/dist-packages (from trio~=0.17->selenium) (2.4.0)\n",
            "Requirement already satisfied: attrs>=19.2.0 in /usr/local/lib/python3.8/dist-packages (from trio~=0.17->selenium) (22.2.0)\n",
            "Requirement already satisfied: wsproto>=0.14 in /usr/local/lib/python3.8/dist-packages (from trio-websocket~=0.9->selenium) (1.2.0)\n",
            "Requirement already satisfied: PySocks!=1.5.7,<2.0,>=1.5.6 in /usr/local/lib/python3.8/dist-packages (from urllib3[socks]~=1.26->selenium) (1.7.1)\n",
            "Requirement already satisfied: h11<1,>=0.9.0 in /usr/local/lib/python3.8/dist-packages (from wsproto>=0.14->trio-websocket~=0.9->selenium) (0.14.0)\n"
          ]
        }
      ]
    },
    {
      "cell_type": "code",
      "source": [
        "!pip install beautifulsoup4"
      ],
      "metadata": {
        "colab": {
          "base_uri": "https://localhost:8080/"
        },
        "id": "XK_DQ5-yZCRc",
        "outputId": "32ac8af7-da81-40ac-e292-89ba7a766d40"
      },
      "execution_count": 125,
      "outputs": [
        {
          "output_type": "stream",
          "name": "stdout",
          "text": [
            "Looking in indexes: https://pypi.org/simple, https://us-python.pkg.dev/colab-wheels/public/simple/\n",
            "Requirement already satisfied: beautifulsoup4 in /usr/local/lib/python3.8/dist-packages (4.6.3)\n"
          ]
        }
      ]
    },
    {
      "cell_type": "code",
      "source": [
        "!pip install requests"
      ],
      "metadata": {
        "colab": {
          "base_uri": "https://localhost:8080/"
        },
        "id": "QvofuAKcZ3O3",
        "outputId": "c798da17-8b8a-4908-8be2-99e93c01779b"
      },
      "execution_count": 126,
      "outputs": [
        {
          "output_type": "stream",
          "name": "stdout",
          "text": [
            "Looking in indexes: https://pypi.org/simple, https://us-python.pkg.dev/colab-wheels/public/simple/\n",
            "Requirement already satisfied: requests in /usr/local/lib/python3.8/dist-packages (2.25.1)\n",
            "Requirement already satisfied: certifi>=2017.4.17 in /usr/local/lib/python3.8/dist-packages (from requests) (2022.12.7)\n",
            "Requirement already satisfied: chardet<5,>=3.0.2 in /usr/local/lib/python3.8/dist-packages (from requests) (4.0.0)\n",
            "Requirement already satisfied: idna<3,>=2.5 in /usr/local/lib/python3.8/dist-packages (from requests) (2.10)\n",
            "Requirement already satisfied: urllib3<1.27,>=1.21.1 in /usr/local/lib/python3.8/dist-packages (from requests) (1.26.14)\n"
          ]
        }
      ]
    },
    {
      "cell_type": "code",
      "execution_count": 127,
      "metadata": {
        "id": "v8-7LJlNWGuD"
      },
      "outputs": [],
      "source": [
        "from selenium import webdriver\n",
        "from bs4 import BeautifulSoup\n",
        "\n",
        "import pandas as pd"
      ]
    },
    {
      "cell_type": "code",
      "source": [
        "import numpy as np\n",
        "import pandas as pd\n"
      ],
      "metadata": {
        "id": "wOlEdVsFbW1H"
      },
      "execution_count": 128,
      "outputs": []
    },
    {
      "cell_type": "code",
      "source": [
        "# file = pd.read_csv('/content/submit.csv')\n",
        "# file\n",
        "\n",
        "filename = '/content/submit.csv'\n",
        "# opening the file with w+ mode truncates the file\n",
        "f = open(filename, \"w+\")\n",
        "f.truncate()\n",
        "f.close()\n",
        "\n"
      ],
      "metadata": {
        "id": "0B3Yh_1sdsIb"
      },
      "execution_count": 129,
      "outputs": []
    },
    {
      "cell_type": "code",
      "source": [
        "import requests\n",
        "r = requests.get('https://www.analytixlabs.co.in/blog/40-best-artificial-intelligence-quotes/')\n",
        "print(r)\n",
        "print(r.content)"
      ],
      "metadata": {
        "colab": {
          "base_uri": "https://localhost:8080/"
        },
        "id": "aOGnhDR7ZcEP",
        "outputId": "5cc0fe66-ba50-4461-e05c-63d0ac06a9bb"
      },
      "execution_count": 130,
      "outputs": [
        {
          "output_type": "stream",
          "name": "stdout",
          "text": [
            "<Response [200]>\n",
            "b'<!DOCTYPE html><html lang=\"en-US\"><head><meta charset=\"UTF-8\" /><meta http-equiv=\"x-ua-compatible\" content=\"ie=edge\" /><meta name=\"viewport\" content=\"width=device-width, initial-scale=1\" /><link rel=\"profile\" href=\"//gmpg.org/xfn/11\" /><meta name=\\'robots\\' content=\\'index, follow, max-image-preview:large, max-snippet:-1, max-video-preview:-1\\' /><title>40 Best artificial intelligence quotes</title><meta name=\"description\" content=\"Artificial intelligence is transforming the world. Here are some famous quotes on artificial intelligence from different perspectives. Read to explore AI quotes!\" /><link rel=\"canonical\" href=\"//www.analytixlabs.co.in/blog/40-best-artificial-intelligence-quotes/\" /><meta property=\"og:locale\" content=\"en_US\" /><meta property=\"og:type\" content=\"article\" /><meta property=\"og:title\" content=\"40 Best artificial intelligence quotes\" /><meta property=\"og:description\" content=\"Artificial intelligence is transforming the world. Here are some famous quotes on artificial intelligence from different perspectives. Read to explore AI quotes!\" /><meta property=\"og:url\" content=\"https://www.analytixlabs.co.in/blog/40-best-artificial-intelligence-quotes/\" /><meta property=\"og:site_name\" content=\"Blogs &amp; Updates on Data Science, Business Analytics, AI Machine Learning\" /><meta property=\"article:published_time\" content=\"2022-03-30T06:35:04+00:00\" /><meta property=\"article:modified_time\" content=\"2022-07-05T12:54:40+00:00\" /><meta property=\"og:image\" content=\"https://www.analytixlabs.co.in/blog/wp-content/uploads/2022/03/Banner-Image-Analytix-Labs.jpg\" /><meta property=\"og:image:width\" content=\"1024\" /><meta property=\"og:image:height\" content=\"597\" /><meta property=\"og:image:type\" content=\"image/jpeg\" /><meta name=\"author\" content=\"Sudesh Anand\" /><meta name=\"twitter:card\" content=\"summary_large_image\" /><meta name=\"twitter:label1\" content=\"Written by\" /><meta name=\"twitter:data1\" content=\"Sudesh Anand\" /><meta name=\"twitter:label2\" content=\"Est. reading time\" /><meta name=\"twitter:data2\" content=\"10 minutes\" /> <script type=\"application/ld+json\" class=\"yoast-schema-graph\">{\"@context\":\"https://schema.org\",\"@graph\":[{\"@type\":\"WebPage\",\"@id\":\"https://www.analytixlabs.co.in/blog/40-best-artificial-intelligence-quotes/\",\"url\":\"https://www.analytixlabs.co.in/blog/40-best-artificial-intelligence-quotes/\",\"name\":\"40 Best artificial intelligence quotes\",\"isPartOf\":{\"@id\":\"https://www.analytixlabs.co.in/blog/#website\"},\"primaryImageOfPage\":{\"@id\":\"https://www.analytixlabs.co.in/blog/40-best-artificial-intelligence-quotes/#primaryimage\"},\"image\":{\"@id\":\"https://www.analytixlabs.co.in/blog/40-best-artificial-intelligence-quotes/#primaryimage\"},\"thumbnailUrl\":\"https://www.analytixlabs.co.in/blog/wp-content/uploads/2022/03/Banner-Image-Analytix-Labs.jpg\",\"datePublished\":\"2022-03-30T06:35:04+00:00\",\"dateModified\":\"2022-07-05T12:54:40+00:00\",\"author\":{\"@id\":\"https://www.analytixlabs.co.in/blog/#/schema/person/a018bd92e0558b9f9df8d9f6c37a6387\"},\"description\":\"Artificial intelligence is transforming the world. Here are some famous quotes on artificial intelligence from different perspectives. Read to explore AI quotes!\",\"breadcrumb\":{\"@id\":\"https://www.analytixlabs.co.in/blog/40-best-artificial-intelligence-quotes/#breadcrumb\"},\"inLanguage\":\"en-US\",\"potentialAction\":[{\"@type\":\"ReadAction\",\"target\":[\"https://www.analytixlabs.co.in/blog/40-best-artificial-intelligence-quotes/\"]}]},{\"@type\":\"ImageObject\",\"inLanguage\":\"en-US\",\"@id\":\"https://www.analytixlabs.co.in/blog/40-best-artificial-intelligence-quotes/#primaryimage\",\"url\":\"https://www.analytixlabs.co.in/blog/wp-content/uploads/2022/03/Banner-Image-Analytix-Labs.jpg\",\"contentUrl\":\"https://www.analytixlabs.co.in/blog/wp-content/uploads/2022/03/Banner-Image-Analytix-Labs.jpg\",\"width\":1024,\"height\":597},{\"@type\":\"BreadcrumbList\",\"@id\":\"https://www.analytixlabs.co.in/blog/40-best-artificial-intelligence-quotes/#breadcrumb\",\"itemListElement\":[{\"@type\":\"ListItem\",\"position\":1,\"name\":\"Home\",\"item\":\"https://www.analytixlabs.co.in/blog/\"},{\"@type\":\"ListItem\",\"position\":2,\"name\":\"40 Best Artificial Intelligence Quotes\"}]},{\"@type\":\"WebSite\",\"@id\":\"https://www.analytixlabs.co.in/blog/#website\",\"url\":\"https://www.analytixlabs.co.in/blog/\",\"name\":\"Blogs &amp; Updates on Data Science, Business Analytics, AI Machine Learning\",\"description\":\"Data Science, Business Analytics, AI Machine Learning\",\"potentialAction\":[{\"@type\":\"SearchAction\",\"target\":{\"@type\":\"EntryPoint\",\"urlTemplate\":\"https://www.analytixlabs.co.in/blog/?s={search_term_string}\"},\"query-input\":\"required name=search_term_string\"}],\"inLanguage\":\"en-US\"},{\"@type\":\"Person\",\"@id\":\"https://www.analytixlabs.co.in/blog/#/schema/person/a018bd92e0558b9f9df8d9f6c37a6387\",\"name\":\"Sudesh Anand\",\"image\":{\"@type\":\"ImageObject\",\"inLanguage\":\"en-US\",\"@id\":\"https://www.analytixlabs.co.in/blog/#/schema/person/image/\",\"url\":\"https://secure.gravatar.com/avatar/cee4c4904d8ec2ad1123df34e12dc15a?s=96&d=mm&r=g\",\"contentUrl\":\"https://secure.gravatar.com/avatar/cee4c4904d8ec2ad1123df34e12dc15a?s=96&d=mm&r=g\",\"caption\":\"Sudesh Anand\"},\"url\":\"https://www.analytixlabs.co.in/blog/author/sudesh-anand/\"}]}</script> <style type=\"text/css\">img.wp-smiley,img.emoji{display:inline!important;border:none!important;box-shadow:none!important;height:1em!important;width:1em!important;margin:0 0.07em!important;vertical-align:-0.1em!important;background:none!important;padding:0!important}</style><link rel=\\'stylesheet\\' id=\\'cf7rt-front-style-css\\' href=\\'//www.analytixlabs.co.in/blog/wp-content/plugins/rich-text-editor-field-for-contact-form-7/css/cf7rt-front.css\\' type=\\'text/css\\' media=\\'all\\' /><link rel=\\'stylesheet\\' id=\\'contentberg-core-css\\' href=\\'//www.analytixlabs.co.in/blog/wp-content/cache/busting/1/blog/wp-content/themes/contentberg/style-2.2.0.css\\' type=\\'text/css\\' media=\\'all\\' /><link rel=\\'stylesheet\\' id=\\'wp-block-library-css\\' href=\\'//www.analytixlabs.co.in/blog/wp-includes/css/dist/block-library/style.min.css\\' type=\\'text/css\\' media=\\'all\\' /><style id=\\'global-styles-inline-css\\' type=\\'text/css\\'>body{--wp--preset--color--black:#000;--wp--preset--color--cyan-bluish-gray:#abb8c3;--wp--preset--color--white:#fff;--wp--preset--color--pale-pink:#f78da7;--wp--preset--color--vivid-red:#cf2e2e;--wp--preset--color--luminous-vivid-orange:#ff6900;--wp--preset--color--luminous-vivid-amber:#fcb900;--wp--preset--color--light-green-cyan:#7bdcb5;--wp--preset--color--vivid-green-cyan:#00d084;--wp--preset--color--pale-cyan-blue:#8ed1fc;--wp--preset--color--vivid-cyan-blue:#0693e3;--wp--preset--color--vivid-purple:#9b51e0;--wp--preset--gradient--vivid-cyan-blue-to-vivid-purple:linear-gradient(135deg,rgba(6,147,227,1) 0%,rgb(155,81,224) 100%);--wp--preset--gradient--light-green-cyan-to-vivid-green-cyan:linear-gradient(135deg,rgb(122,220,180) 0%,rgb(0,208,130) 100%);--wp--preset--gradient--luminous-vivid-amber-to-luminous-vivid-orange:linear-gradient(135deg,rgba(252,185,0,1) 0%,rgba(255,105,0,1) 100%);--wp--preset--gradient--luminous-vivid-orange-to-vivid-red:linear-gradient(135deg,rgba(255,105,0,1) 0%,rgb(207,46,46) 100%);--wp--preset--gradient--very-light-gray-to-cyan-bluish-gray:linear-gradient(135deg,rgb(238,238,238) 0%,rgb(169,184,195) 100%);--wp--preset--gradient--cool-to-warm-spectrum:linear-gradient(135deg,rgb(74,234,220) 0%,rgb(151,120,209) 20%,rgb(207,42,186) 40%,rgb(238,44,130) 60%,rgb(251,105,98) 80%,rgb(254,248,76) 100%);--wp--preset--gradient--blush-light-purple:linear-gradient(135deg,rgb(255,206,236) 0%,rgb(152,150,240) 100%);--wp--preset--gradient--blush-bordeaux:linear-gradient(135deg,rgb(254,205,165) 0%,rgb(254,45,45) 50%,rgb(107,0,62) 100%);--wp--preset--gradient--luminous-dusk:linear-gradient(135deg,rgb(255,203,112) 0%,rgb(199,81,192) 50%,rgb(65,88,208) 100%);--wp--preset--gradient--pale-ocean:linear-gradient(135deg,rgb(255,245,203) 0%,rgb(182,227,212) 50%,rgb(51,167,181) 100%);--wp--preset--gradient--electric-grass:linear-gradient(135deg,rgb(202,248,128) 0%,rgb(113,206,126) 100%);--wp--preset--gradient--midnight:linear-gradient(135deg,rgb(2,3,129) 0%,rgb(40,116,252) 100%);--wp--preset--duotone--dark-grayscale:url(\\'#wp-duotone-dark-grayscale\\');--wp--preset--duotone--grayscale:url(\\'#wp-duotone-grayscale\\');--wp--preset--duotone--purple-yellow:url(\\'#wp-duotone-purple-yellow\\');--wp--preset--duotone--blue-red:url(\\'#wp-duotone-blue-red\\');--wp--preset--duotone--midnight:url(\\'#wp-duotone-midnight\\');--wp--preset--duotone--magenta-yellow:url(\\'#wp-duotone-magenta-yellow\\');--wp--preset--duotone--purple-green:url(\\'#wp-duotone-purple-green\\');--wp--preset--duotone--blue-orange:url(\\'#wp-duotone-blue-orange\\');--wp--preset--font-size--small:13px;--wp--preset--font-size--medium:20px;--wp--preset--font-size--large:36px;--wp--preset--font-size--x-large:42px}.has-black-color{color:var(--wp--preset--color--black)!important}.has-cyan-bluish-gray-color{color:var(--wp--preset--color--cyan-bluish-gray)!important}.has-white-color{color:var(--wp--preset--color--white)!important}.has-pale-pink-color{color:var(--wp--preset--color--pale-pink)!important}.has-vivid-red-color{color:var(--wp--preset--color--vivid-red)!important}.has-luminous-vivid-orange-color{color:var(--wp--preset--color--luminous-vivid-orange)!important}.has-luminous-vivid-amber-color{color:var(--wp--preset--color--luminous-vivid-amber)!important}.has-light-green-cyan-color{color:var(--wp--preset--color--light-green-cyan)!important}.has-vivid-green-cyan-color{color:var(--wp--preset--color--vivid-green-cyan)!important}.has-pale-cyan-blue-color{color:var(--wp--preset--color--pale-cyan-blue)!important}.has-vivid-cyan-blue-color{color:var(--wp--preset--color--vivid-cyan-blue)!important}.has-vivid-purple-color{color:var(--wp--preset--color--vivid-purple)!important}.has-black-background-color{background-color:var(--wp--preset--color--black)!important}.has-cyan-bluish-gray-background-color{background-color:var(--wp--preset--color--cyan-bluish-gray)!important}.has-white-background-color{background-color:var(--wp--preset--color--white)!important}.has-pale-pink-background-color{background-color:var(--wp--preset--color--pale-pink)!important}.has-vivid-red-background-color{background-color:var(--wp--preset--color--vivid-red)!important}.has-luminous-vivid-orange-background-color{background-color:var(--wp--preset--color--luminous-vivid-orange)!important}.has-luminous-vivid-amber-background-color{background-color:var(--wp--preset--color--luminous-vivid-amber)!important}.has-light-green-cyan-background-color{background-color:var(--wp--preset--color--light-green-cyan)!important}.has-vivid-green-cyan-background-color{background-color:var(--wp--preset--color--vivid-green-cyan)!important}.has-pale-cyan-blue-background-color{background-color:var(--wp--preset--color--pale-cyan-blue)!important}.has-vivid-cyan-blue-background-color{background-color:var(--wp--preset--color--vivid-cyan-blue)!important}.has-vivid-purple-background-color{background-color:var(--wp--preset--color--vivid-purple)!important}.has-black-border-color{border-color:var(--wp--preset--color--black)!important}.has-cyan-bluish-gray-border-color{border-color:var(--wp--preset--color--cyan-bluish-gray)!important}.has-white-border-color{border-color:var(--wp--preset--color--white)!important}.has-pale-pink-border-color{border-color:var(--wp--preset--color--pale-pink)!important}.has-vivid-red-border-color{border-color:var(--wp--preset--color--vivid-red)!important}.has-luminous-vivid-orange-border-color{border-color:var(--wp--preset--color--luminous-vivid-orange)!important}.has-luminous-vivid-amber-border-color{border-color:var(--wp--preset--color--luminous-vivid-amber)!important}.has-light-green-cyan-border-color{border-color:var(--wp--preset--color--light-green-cyan)!important}.has-vivid-green-cyan-border-color{border-color:var(--wp--preset--color--vivid-green-cyan)!important}.has-pale-cyan-blue-border-color{border-color:var(--wp--preset--color--pale-cyan-blue)!important}.has-vivid-cyan-blue-border-color{border-color:var(--wp--preset--color--vivid-cyan-blue)!important}.has-vivid-purple-border-color{border-color:var(--wp--preset--color--vivid-purple)!important}.has-vivid-cyan-blue-to-vivid-purple-gradient-background{background:var(--wp--preset--gradient--vivid-cyan-blue-to-vivid-purple)!important}.has-light-green-cyan-to-vivid-green-cyan-gradient-background{background:var(--wp--preset--gradient--light-green-cyan-to-vivid-green-cyan)!important}.has-luminous-vivid-amber-to-luminous-vivid-orange-gradient-background{background:var(--wp--preset--gradient--luminous-vivid-amber-to-luminous-vivid-orange)!important}.has-luminous-vivid-orange-to-vivid-red-gradient-background{background:var(--wp--preset--gradient--luminous-vivid-orange-to-vivid-red)!important}.has-very-light-gray-to-cyan-bluish-gray-gradient-background{background:var(--wp--preset--gradient--very-light-gray-to-cyan-bluish-gray)!important}.has-cool-to-warm-spectrum-gradient-background{background:var(--wp--preset--gradient--cool-to-warm-spectrum)!important}.has-blush-light-purple-gradient-background{background:var(--wp--preset--gradient--blush-light-purple)!important}.has-blush-bordeaux-gradient-background{background:var(--wp--preset--gradient--blush-bordeaux)!important}.has-luminous-dusk-gradient-background{background:var(--wp--preset--gradient--luminous-dusk)!important}.has-pale-ocean-gradient-background{background:var(--wp--preset--gradient--pale-ocean)!important}.has-electric-grass-gradient-background{background:var(--wp--preset--gradient--electric-grass)!important}.has-midnight-gradient-background{background:var(--wp--preset--gradient--midnight)!important}.has-small-font-size{font-size:var(--wp--preset--font-size--small)!important}.has-medium-font-size{font-size:var(--wp--preset--font-size--medium)!important}.has-large-font-size{font-size:var(--wp--preset--font-size--large)!important}.has-x-large-font-size{font-size:var(--wp--preset--font-size--x-large)!important}</style><link rel=\\'stylesheet\\' id=\\'contact-form-7-css\\' href=\\'//www.analytixlabs.co.in/blog/wp-content/cache/busting/1/blog/wp-content/plugins/contact-form-7/includes/css/styles-5.7.2.css\\' type=\\'text/css\\' media=\\'all\\' /><link rel=\\'stylesheet\\' id=\\'ez-toc-css\\' href=\\'//www.analytixlabs.co.in/blog/wp-content/cache/busting/1/blog/wp-content/plugins/easy-table-of-contents/assets/css/screen.min-2.0.44.1.css\\' type=\\'text/css\\' media=\\'all\\' /><style id=\\'ez-toc-inline-css\\' type=\\'text/css\\'>div#ez-toc-container p.ez-toc-title{font-size:120%}div#ez-toc-container p.ez-toc-title{font-weight:500}div#ez-toc-container ul li{font-size:95%}div#ez-toc-container nav ul ul li ul li{font-size:%!important}.ez-toc-container-direction{direction:ltr}.ez-toc-counter ul{counter-reset:item}.ez-toc-counter nav ul li a::before{content:counters(item,\".\",decimal) \". \";display:inline-block;counter-increment:item;flex-grow:0;flex-shrink:0;margin-right:.2em;float:left}.ez-toc-widget-direction{direction:ltr}.ez-toc-widget-container ul{counter-reset:item}.ez-toc-widget-container nav ul li a::before{content:counters(item,\".\",decimal) \". \";display:inline-block;counter-increment:item;flex-grow:0;flex-shrink:0;margin-right:.2em;float:left}</style><link rel=\\'stylesheet\\' id=\\'contentberg-fonts-css\\' href=\\'//www.analytixlabs.co.in/blog/wp-content/uploads/sgf-css/font-e7b2cba80b45139236caa3376e71ad1d.css\\' type=\\'text/css\\' media=\\'all\\' /><link rel=\\'stylesheet\\' id=\\'contentberg-lightbox-css\\' href=\\'//www.analytixlabs.co.in/blog/wp-content/cache/busting/1/blog/wp-content/themes/contentberg/css/lightbox-2.2.0.css\\' type=\\'text/css\\' media=\\'all\\' /><link rel=\\'stylesheet\\' id=\\'font-awesome-css\\' href=\\'//www.analytixlabs.co.in/blog/wp-content/cache/busting/1/blog/wp-content/themes/contentberg/css/fontawesome/css/font-awesome.min-2.2.0.css\\' type=\\'text/css\\' media=\\'all\\' /><link rel=\\'stylesheet\\' id=\\'contentberg-child-css\\' href=\\'//www.analytixlabs.co.in/blog/wp-content/themes/contentberg-child/style.css\\' type=\\'text/css\\' media=\\'all\\' /><style id=\\'contentberg-child-inline-css\\' type=\\'text/css\\'>.main-footer .bg-wrap:before{background-image:url(https://contentberg.theme-sphere.com/wp-content/uploads/2018/09/footer-bg-1.png);background-repeat:no-repeat;background-position:center center;background-size:cover}</style><style id=\\'rocket-lazyload-inline-css\\' type=\\'text/css\\'>.rll-youtube-player{position:relative;padding-bottom:56.23%;height:0;overflow:hidden;max-width:100%}.rll-youtube-player iframe{position:absolute;top:0;left:0;width:100%;height:100%;z-index:100;background:0 0}.rll-youtube-player img{bottom:0;display:block;left:0;margin:auto;max-width:100%;width:100%;position:absolute;right:0;top:0;border:none;height:auto;cursor:pointer;-webkit-transition:.4s all;-moz-transition:.4s all;transition:.4s all}.rll-youtube-player img:hover{-webkit-filter:brightness(75%)}.rll-youtube-player .play{height:72px;width:72px;left:50%;top:50%;margin-left:-36px;margin-top:-36px;position:absolute;background:url(https://www.analytixlabs.co.in/blog/wp-content/plugins/wp-rocket/assets/img/youtube.png) no-repeat;cursor:pointer}</style> <script type=\\'text/javascript\\' src=\\'//www.analytixlabs.co.in/blog/wp-content/cache/busting/1/blog/wp-includes/js/jquery/jquery.min-3.6.0.js\\' id=\\'jquery-core-js\\'></script> <script type=\\'text/javascript\\' src=\\'//www.analytixlabs.co.in/blog/wp-content/cache/busting/1/blog/wp-includes/js/jquery/jquery-migrate.min-3.3.2.js\\' id=\\'jquery-migrate-js\\'></script> <script type=\\'text/javascript\\' id=\\'ez-toc-scroll-scriptjs-js-after\\'>jQuery(document).ready(function(){document.querySelectorAll(\".ez-toc-section\").forEach(t=>{t.setAttribute(\"ez-toc-data-id\",\"#\"+decodeURI(t.getAttribute(\"id\")))}),jQuery(\"a.ez-toc-link\").click(function(){let t=jQuery(this).attr(\"href\"),e=jQuery(\"#wpadminbar\"),i=0;30>30&&(i=30),e.length&&(i+=e.height()),jQuery(\\'[ez-toc-data-id=\"\\'+decodeURI(t)+\\'\"]\\').length>0&&(i=jQuery(\\'[ez-toc-data-id=\"\\'+decodeURI(t)+\\'\"]\\').offset().top-i),jQuery(\"html, body\").animate({scrollTop:i},500)})});</script> <link rel=\"https://api.w.org/\" href=\"//www.analytixlabs.co.in/blog/wp-json/\" /><link rel=\"alternate\" type=\"application/json\" href=\"//www.analytixlabs.co.in/blog/wp-json/wp/v2/posts/8490\" /><link rel=\"EditURI\" type=\"application/rsd+xml\" title=\"RSD\" href=\"//www.analytixlabs.co.in/blog/xmlrpc.php?rsd\" /><link rel=\"wlwmanifest\" type=\"application/wlwmanifest+xml\" href=\"//www.analytixlabs.co.in/blog/wp-includes/wlwmanifest.xml\" /><meta name=\"generator\" content=\"WordPress 6.0.1\" /><link rel=\\'shortlink\\' href=\\'//www.analytixlabs.co.in/blog/?p=8490\\' /> <script async src=\"//www.googletagmanager.com/gtag/js?id=UA-29808151-1\"></script> <script>window.dataLayer = window.dataLayer || [];\\n    function gtag(){dataLayer.push(arguments);}\\n    gtag(\\'js\\', new Date());\\n\\n    gtag(\\'config\\', \\'UA-29808151-1\\');</script> <script type=\"text/javascript\">window.heap=window.heap||[],heap.load=function(e,t){window.heap.appid=e,window.heap.config=t=t||{};var r=document.createElement(\"script\");r.type=\"text/javascript\",r.async=!0,r.src=\"https://cdn.heapanalytics.com/js/heap-\"+e+\".js\";var a=document.getElementsByTagName(\"script\")[0];a.parentNode.insertBefore(r,a);for(var n=function(e){return function(){heap.push([e].concat(Array.prototype.slice.call(arguments,0)))}},p=[\"addEventProperties\",\"addUserProperties\",\"clearEventProperties\",\"identify\",\"resetIdentity\",\"removeEventProperty\",\"setEventProperties\",\"track\",\"unsetEventProperty\"],o=0;o<p.length;o++)heap[p[o]]=n(p[o])};\\n    heap.load(\"2336048362\");</script><script>var Sphere_Plugin = {\"ajaxurl\":\"https:\\\\/\\\\/www.analytixlabs.co.in\\\\/blog\\\\/wp-admin\\\\/admin-ajax.php\"};</script><link rel=\"icon\" href=\"//www.analytixlabs.co.in/blog/wp-content/uploads/2021/02/cropped-cropped-AL-32x32.png\" sizes=\"32x32\" /><link rel=\"icon\" href=\"//www.analytixlabs.co.in/blog/wp-content/uploads/2021/02/cropped-cropped-AL-192x192.png\" sizes=\"192x192\" /><link rel=\"apple-touch-icon\" href=\"//www.analytixlabs.co.in/blog/wp-content/uploads/2021/02/cropped-cropped-AL-180x180.png\" /><meta name=\"msapplication-TileImage\" content=\"https://www.analytixlabs.co.in/blog/wp-content/uploads/2021/02/cropped-cropped-AL-270x270.png\" /><style type=\"text/css\" id=\"wp-custom-css\">.main-head.simple-boxed{border-top:0}</style><noscript><style>.wpb_animate_when_almost_visible{opacity:1}</style></noscript><noscript><style id=\"rocket-lazyload-nojs-css\">.rll-youtube-player,[data-lazy-src]{display:none!important}</style></noscript> <script async src=\"//www.googletagmanager.com/gtag/js?id=G-S8DQVCX660\"></script> <script>window.dataLayer = window.dataLayer || [];\\n        function gtag(){dataLayer.push(arguments);}\\n        gtag(\\'js\\', new Date());\\n\\n        gtag(\\'config\\', \\'G-S8DQVCX660\\');</script> </head><body class=\"post-template-default single single-post postid-8490 single-format-standard right-sidebar layout-magazine has-lb wpb-js-composer js-comp-ver-6.9.0 vc_responsive\"> <svg xmlns=\"http://www.w3.org/2000/svg\" viewBox=\"0 0 0 0\" width=\"0\" height=\"0\" focusable=\"false\" role=\"none\" style=\"visibility: hidden; position: absolute; left: -9999px; overflow: hidden;\"><defs><filter id=\"wp-duotone-dark-grayscale\"><feColorMatrix color-interpolation-filters=\"sRGB\" type=\"matrix\" values=\" .299 .587 .114 0 0 .299 .587 .114 0 0 .299 .587 .114 0 0 .299 .587 .114 0 0 \" /><feComponentTransfer color-interpolation-filters=\"sRGB\"><feFuncR type=\"table\" tableValues=\"0 0.49803921568627\" /><feFuncG type=\"table\" tableValues=\"0 0.49803921568627\" /><feFuncB type=\"table\" tableValues=\"0 0.49803921568627\" /><feFuncA type=\"table\" tableValues=\"1 1\" /></feComponentTransfer><feComposite in2=\"SourceGraphic\" operator=\"in\" /></filter></defs></svg><svg xmlns=\"http://www.w3.org/2000/svg\" viewBox=\"0 0 0 0\" width=\"0\" height=\"0\" focusable=\"false\" role=\"none\" style=\"visibility: hidden; position: absolute; left: -9999px; overflow: hidden;\"><defs><filter id=\"wp-duotone-grayscale\"><feColorMatrix color-interpolation-filters=\"sRGB\" type=\"matrix\" values=\" .299 .587 .114 0 0 .299 .587 .114 0 0 .299 .587 .114 0 0 .299 .587 .114 0 0 \" /><feComponentTransfer color-interpolation-filters=\"sRGB\"><feFuncR type=\"table\" tableValues=\"0 1\" /><feFuncG type=\"table\" tableValues=\"0 1\" /><feFuncB type=\"table\" tableValues=\"0 1\" /><feFuncA type=\"table\" tableValues=\"1 1\" /></feComponentTransfer><feComposite in2=\"SourceGraphic\" operator=\"in\" /></filter></defs></svg><svg xmlns=\"http://www.w3.org/2000/svg\" viewBox=\"0 0 0 0\" width=\"0\" height=\"0\" focusable=\"false\" role=\"none\" style=\"visibility: hidden; position: absolute; left: -9999px; overflow: hidden;\"><defs><filter id=\"wp-duotone-purple-yellow\"><feColorMatrix color-interpolation-filters=\"sRGB\" type=\"matrix\" values=\" .299 .587 .114 0 0 .299 .587 .114 0 0 .299 .587 .114 0 0 .299 .587 .114 0 0 \" /><feComponentTransfer color-interpolation-filters=\"sRGB\"><feFuncR type=\"table\" tableValues=\"0.54901960784314 0.98823529411765\" /><feFuncG type=\"table\" tableValues=\"0 1\" /><feFuncB type=\"table\" tableValues=\"0.71764705882353 0.25490196078431\" /><feFuncA type=\"table\" tableValues=\"1 1\" /></feComponentTransfer><feComposite in2=\"SourceGraphic\" operator=\"in\" /></filter></defs></svg><svg xmlns=\"http://www.w3.org/2000/svg\" viewBox=\"0 0 0 0\" width=\"0\" height=\"0\" focusable=\"false\" role=\"none\" style=\"visibility: hidden; position: absolute; left: -9999px; overflow: hidden;\"><defs><filter id=\"wp-duotone-blue-red\"><feColorMatrix color-interpolation-filters=\"sRGB\" type=\"matrix\" values=\" .299 .587 .114 0 0 .299 .587 .114 0 0 .299 .587 .114 0 0 .299 .587 .114 0 0 \" /><feComponentTransfer color-interpolation-filters=\"sRGB\"><feFuncR type=\"table\" tableValues=\"0 1\" /><feFuncG type=\"table\" tableValues=\"0 0.27843137254902\" /><feFuncB type=\"table\" tableValues=\"0.5921568627451 0.27843137254902\" /><feFuncA type=\"table\" tableValues=\"1 1\" /></feComponentTransfer><feComposite in2=\"SourceGraphic\" operator=\"in\" /></filter></defs></svg><svg xmlns=\"http://www.w3.org/2000/svg\" viewBox=\"0 0 0 0\" width=\"0\" height=\"0\" focusable=\"false\" role=\"none\" style=\"visibility: hidden; position: absolute; left: -9999px; overflow: hidden;\"><defs><filter id=\"wp-duotone-midnight\"><feColorMatrix color-interpolation-filters=\"sRGB\" type=\"matrix\" values=\" .299 .587 .114 0 0 .299 .587 .114 0 0 .299 .587 .114 0 0 .299 .587 .114 0 0 \" /><feComponentTransfer color-interpolation-filters=\"sRGB\"><feFuncR type=\"table\" tableValues=\"0 0\" /><feFuncG type=\"table\" tableValues=\"0 0.64705882352941\" /><feFuncB type=\"table\" tableValues=\"0 1\" /><feFuncA type=\"table\" tableValues=\"1 1\" /></feComponentTransfer><feComposite in2=\"SourceGraphic\" operator=\"in\" /></filter></defs></svg><svg xmlns=\"http://www.w3.org/2000/svg\" viewBox=\"0 0 0 0\" width=\"0\" height=\"0\" focusable=\"false\" role=\"none\" style=\"visibility: hidden; position: absolute; left: -9999px; overflow: hidden;\"><defs><filter id=\"wp-duotone-magenta-yellow\"><feColorMatrix color-interpolation-filters=\"sRGB\" type=\"matrix\" values=\" .299 .587 .114 0 0 .299 .587 .114 0 0 .299 .587 .114 0 0 .299 .587 .114 0 0 \" /><feComponentTransfer color-interpolation-filters=\"sRGB\"><feFuncR type=\"table\" tableValues=\"0.78039215686275 1\" /><feFuncG type=\"table\" tableValues=\"0 0.94901960784314\" /><feFuncB type=\"table\" tableValues=\"0.35294117647059 0.47058823529412\" /><feFuncA type=\"table\" tableValues=\"1 1\" /></feComponentTransfer><feComposite in2=\"SourceGraphic\" operator=\"in\" /></filter></defs></svg><svg xmlns=\"http://www.w3.org/2000/svg\" viewBox=\"0 0 0 0\" width=\"0\" height=\"0\" focusable=\"false\" role=\"none\" style=\"visibility: hidden; position: absolute; left: -9999px; overflow: hidden;\"><defs><filter id=\"wp-duotone-purple-green\"><feColorMatrix color-interpolation-filters=\"sRGB\" type=\"matrix\" values=\" .299 .587 .114 0 0 .299 .587 .114 0 0 .299 .587 .114 0 0 .299 .587 .114 0 0 \" /><feComponentTransfer color-interpolation-filters=\"sRGB\"><feFuncR type=\"table\" tableValues=\"0.65098039215686 0.40392156862745\" /><feFuncG type=\"table\" tableValues=\"0 1\" /><feFuncB type=\"table\" tableValues=\"0.44705882352941 0.4\" /><feFuncA type=\"table\" tableValues=\"1 1\" /></feComponentTransfer><feComposite in2=\"SourceGraphic\" operator=\"in\" /></filter></defs></svg><svg xmlns=\"http://www.w3.org/2000/svg\" viewBox=\"0 0 0 0\" width=\"0\" height=\"0\" focusable=\"false\" role=\"none\" style=\"visibility: hidden; position: absolute; left: -9999px; overflow: hidden;\"><defs><filter id=\"wp-duotone-blue-orange\"><feColorMatrix color-interpolation-filters=\"sRGB\" type=\"matrix\" values=\" .299 .587 .114 0 0 .299 .587 .114 0 0 .299 .587 .114 0 0 .299 .587 .114 0 0 \" /><feComponentTransfer color-interpolation-filters=\"sRGB\"><feFuncR type=\"table\" tableValues=\"0.098039215686275 1\" /><feFuncG type=\"table\" tableValues=\"0 0.66274509803922\" /><feFuncB type=\"table\" tableValues=\"0.84705882352941 0.41960784313725\" /><feFuncA type=\"table\" tableValues=\"1 1\" /></feComponentTransfer><feComposite in2=\"SourceGraphic\" operator=\"in\" /></filter></defs></svg><div class=\"main-wrap\"><header id=\"main-head\" class=\"main-head head-nav-below has-search-modal simple simple-boxed\"><div class=\"inner inner-head\" data-sticky-bar=\"smart\"><div class=\"wrap cf wrap-head\"><div class=\"left-contain\"> <span class=\"mobile-nav\"><i class=\"fa fa-bars\"></i></span><div class=\"title\"> <a href=\"https://www.analytixlabs.co.in/blog/\" title=\"Blogs &amp; Updates on Data Science, Business Analytics, AI Machine Learning\" rel=\"home\"> <img class=\"mobile-logo\" src=\"data:image/svg+xml,%3Csvg%20xmlns=\\'http://www.w3.org/2000/svg\\'%20viewBox=\\'0%200%20135%2034\\'%3E%3C/svg%3E\" width=\"135\" height=\"34\" alt=\"Blogs &amp; Updates on Data Science, Business Analytics, AI Machine Learning\" data-lazy-src=\"//www.analytixlabs.co.in/blog/wp-content/uploads/2015/09/logo-3.png\" /><noscript><img class=\"mobile-logo\" src=\"//www.analytixlabs.co.in/blog/wp-content/uploads/2015/09/logo-3.png\" width=\"135\" height=\"34\" alt=\"Blogs &amp; Updates on Data Science, Business Analytics, AI Machine Learning\" /></noscript> <img src=\"data:image/svg+xml,%3Csvg%20xmlns=\\'http://www.w3.org/2000/svg\\'%20viewBox=\\'0%200%200%200\\'%3E%3C/svg%3E\" class=\"logo-image\" alt=\"Blogs &amp; Updates on Data Science, Business Analytics, AI Machine Learning\" data-lazy-src=\"//www.analytixlabs.co.in/blog/wp-content/uploads/2015/09/logo-3.png\" /><noscript><img src=\"//www.analytixlabs.co.in/blog/wp-content/uploads/2015/09/logo-3.png\" class=\"logo-image\" alt=\"Blogs &amp; Updates on Data Science, Business Analytics, AI Machine Learning\" /></noscript> </a></div></div><div class=\"navigation-wrap inline\"><nav class=\"navigation inline simple light\" data-sticky-bar=\"smart\"><div class=\"menu-main-menu-container\"><ul id=\"menu-main-menu\" class=\"menu\"><li id=\"menu-item-5656\" class=\"menu-item menu-item-type-custom menu-item-object-custom menu-item-5656\"><a href=\"https://www.analytixlabs.co.in/\"><span>Home</span></a></li><li id=\"menu-item-5664\" class=\"menu-item menu-item-type-custom menu-item-object-custom menu-item-5664\"><a href=\"https://www.analytixlabs.co.in/courses\"><span>Courses</span></a></li><li id=\"menu-item-5665\" class=\"menu-item menu-item-type-custom menu-item-object-custom menu-item-5665\"><a href=\"https://www.analytixlabs.co.in/offers\"><span>Offers</span></a></li><li id=\"menu-item-5666\" class=\"menu-item menu-item-type-custom menu-item-object-custom menu-item-5666\"><a href=\"https://www.analytixlabs.co.in/about-alabs\"><span>Why Us</span></a></li><li id=\"menu-item-5667\" class=\"menu-item menu-item-type-custom menu-item-object-custom menu-item-5667\"><a href=\"https://www.analytixlabs.co.in/about-faculty\"><span>Instructors</span></a></li><li id=\"menu-item-5668\" class=\"menu-item menu-item-type-custom menu-item-object-custom menu-item-5668\"><a href=\"https://www.analytixlabs.co.in/candidates-outsourcing\"><span>Employers</span></a></li><li id=\"menu-item-5669\" class=\"menu-item menu-item-type-custom menu-item-object-custom menu-item-home menu-item-5669\"><a href=\"https://www.analytixlabs.co.in/blog\"><span>Blog</span></a></li><li id=\"menu-item-5670\" class=\"menu-item menu-item-type-custom menu-item-object-custom menu-item-5670\"><a href=\"https://www.analytixlabs.co.in/contact-us\"><span>Contact</span></a></li></ul></div></nav></div><div class=\"actions\"><ul class=\"social-icons cf\"><li><a href=\"https://www.facebook.com/analytixlabs\" class=\"fa fa-facebook\" target=\"_blank\"><span class=\"visuallyhidden\">Facebook</span></a></li><li><a href=\"https://twitter.com/AnalytixLabs\" class=\"fa fa-twitter\" target=\"_blank\"><span class=\"visuallyhidden\">Twitter</span></a></li><li><a href=\"https://www.instagram.com/analytixlabs/?igshid=5outdkxzn8xq\" class=\"fa fa-instagram\" target=\"_blank\"><span class=\"visuallyhidden\">Instagram</span></a></li><li><a href=\"https://www.youtube.com/channel/UCntTDxl3Uzp2096Nw2hFKzQ\" class=\"fa fa-youtube\" target=\"_blank\"><span class=\"visuallyhidden\">YouTube</span></a></li><li><a href=\"https://www.linkedin.com/in/analytixlabs/\" class=\"fa fa-linkedin\" target=\"_blank\"><span class=\"visuallyhidden\">LinkedIn</span></a></li></ul> <a href=\"#\" title=\"Search\" class=\"search-link\"><i class=\"fa fa-search\"></i></a></div></div></div></header><div class=\"main wrap\"><div id=\"post-8490\" class=\"single-magazine post-8490 post type-post status-publish format-standard has-post-thumbnail category-artificial-intelligence\"><div class=\"post-top cf\"> <span class=\"cat-label cf color\"> <a href=\"https://www.analytixlabs.co.in/blog/category/artificial-intelligence/\" class=\"category\">Artificial Intelligence</a> </span><h1 class=\"post-title\">40 Best Artificial Intelligence Quotes</h1><div class=\"post-meta post-meta-b the-post-meta\"><div class=\"below\"> <a href=\"https://www.analytixlabs.co.in/blog/40-best-artificial-intelligence-quotes/\" class=\"meta-item date-link\"><time class=\"post-date\" datetime=\"2022-03-30T06:35:04+00:00\">March 30, 2022</time></a> <span class=\"meta-sep\"></span> <span class=\"meta-item read-time\">10 Mins Read</span></div></div><div class=\"post-share-b cf\"> <a href=\"https://www.facebook.com/sharer.php?u=https%3A%2F%2Fwww.analytixlabs.co.in%2Fblog%2F40-best-artificial-intelligence-quotes%2F\" class=\"cf service facebook\" target=\"_blank\" title=\"Share on Facebook\"> <i class=\"fa fa-facebook\"></i> <span class=\"label\">Share on Facebook</span> </a> <a href=\"https://twitter.com/intent/tweet?url=https%3A%2F%2Fwww.analytixlabs.co.in%2Fblog%2F40-best-artificial-intelligence-quotes%2F&#038;text=40%20Best%20Artificial%20Intelligence%20Quotes\" class=\"cf service twitter\" target=\"_blank\" title=\"Share on Twitter\"> <i class=\"fa fa-twitter\"></i> <span class=\"label\">Share on Twitter</span> </a> <a href=\"https://pinterest.com/pin/create/button/?url=https%3A%2F%2Fwww.analytixlabs.co.in%2Fblog%2F40-best-artificial-intelligence-quotes%2F&#038;media=https%3A%2F%2Fwww.analytixlabs.co.in%2Fblog%2Fwp-content%2Fuploads%2F2022%2F03%2FBanner-Image-Analytix-Labs.jpg&#038;description=40%20Best%20Artificial%20Intelligence%20Quotes\" class=\"cf service pinterest\" target=\"_blank\" title=\"Pinterest\"> <i class=\"fa fa-pinterest\"></i> <span class=\"label\">Pinterest</span> </a> <a href=\"https://www.linkedin.com/shareArticle?mini=true&#038;url=https%3A%2F%2Fwww.analytixlabs.co.in%2Fblog%2F40-best-artificial-intelligence-quotes%2F\" class=\"cf service linkedin\" target=\"_blank\" title=\"LinkedIn\"> <i class=\"fa fa-linkedin\"></i> <span class=\"label\">LinkedIn</span> </a> <a href=\"https://www.tumblr.com/share/link?url=https%3A%2F%2Fwww.analytixlabs.co.in%2Fblog%2F40-best-artificial-intelligence-quotes%2F&#038;name=40%20Best%20Artificial%20Intelligence%20Quotes\" class=\"cf service tumblr\" target=\"_blank\" title=\"Tumblr\"> <i class=\"fa fa-tumblr\"></i> <span class=\"label\">Tumblr</span> </a> <a href=\"/cdn-cgi/l/email-protection#38074b4d5a525d5b4c050c081d0a087a5d4b4c1d0a08794a4c515e515b5159541d0a0871564c5d5454515f5d565b5d1d0a08694d574c5d4b1e1b080b00035a575c4105504c4c484b1d0b791d0a7e1d0a7e4f4f4f1659565954414c514054595a4b165b571651561d0a7e5a54575f1d0a7e0c08155a5d4b4c15594a4c515e515b5159541551564c5d5454515f5d565b5d15494d574c5d4b1d0a7e\" class=\"cf service email\" target=\"_blank\" title=\"Email\"> <i class=\"fa fa-envelope-o\"></i> <span class=\"label\">Email</span> </a> <a href=\"#\" class=\"show-more\"><i class=\"fa fa-plus\"></i></a></div></div><div class=\"ts-row cf\"><div class=\"col-8 main-content cf\"><article class=\"the-post\"><header class=\"post-header cf\"><div class=\"featured\"> <a href=\"https://www.analytixlabs.co.in/blog/wp-content/uploads/2022/03/Banner-Image-Analytix-Labs.jpg\" class=\"image-link\"><img width=\"770\" height=\"449\" src=\"data:image/svg+xml,%3Csvg%20xmlns=\\'http://www.w3.org/2000/svg\\'%20viewBox=\\'0%200%20770%20449\\'%3E%3C/svg%3E\" class=\"attachment-contentberg-main size-contentberg-main wp-post-image\" alt=\"\" title=\"40 Best Artificial Intelligence Quotes\" data-lazy-srcset=\"//www.analytixlabs.co.in/blog/wp-content/uploads/2022/03/Banner-Image-Analytix-Labs.jpg 1024w, //www.analytixlabs.co.in/blog/wp-content/uploads/2022/03/Banner-Image-Analytix-Labs-300x175.jpg 300w, //www.analytixlabs.co.in/blog/wp-content/uploads/2022/03/Banner-Image-Analytix-Labs-768x448.jpg 768w\" data-lazy-sizes=\"(max-width: 770px) 100vw, 770px\" data-lazy-src=\"//www.analytixlabs.co.in/blog/wp-content/uploads/2022/03/Banner-Image-Analytix-Labs.jpg\" /><noscript><img width=\"770\" height=\"449\" src=\"//www.analytixlabs.co.in/blog/wp-content/uploads/2022/03/Banner-Image-Analytix-Labs.jpg\" class=\"attachment-contentberg-main size-contentberg-main wp-post-image\" alt=\"\" title=\"40 Best Artificial Intelligence Quotes\" srcset=\"//www.analytixlabs.co.in/blog/wp-content/uploads/2022/03/Banner-Image-Analytix-Labs.jpg 1024w, //www.analytixlabs.co.in/blog/wp-content/uploads/2022/03/Banner-Image-Analytix-Labs-300x175.jpg 300w, //www.analytixlabs.co.in/blog/wp-content/uploads/2022/03/Banner-Image-Analytix-Labs-768x448.jpg 768w\" sizes=\"(max-width: 770px) 100vw, 770px\" /></noscript> </a></div></header><div><div class=\"post-share-float share-float-a is-hidden cf\"> <span class=\"share-text\">Share</span><div class=\"services\"> <a href=\"https://www.facebook.com/sharer.php?u=https%3A%2F%2Fwww.analytixlabs.co.in%2Fblog%2F40-best-artificial-intelligence-quotes%2F\" class=\"cf service facebook\" target=\"_blank\" title=\"Share on Facebook\"> <i class=\"fa fa-facebook\"></i> <span class=\"label\">Share on Facebook</span> </a> <a href=\"https://twitter.com/intent/tweet?url=https%3A%2F%2Fwww.analytixlabs.co.in%2Fblog%2F40-best-artificial-intelligence-quotes%2F&text=40%20Best%20Artificial%20Intelligence%20Quotes\" class=\"cf service twitter\" target=\"_blank\" title=\"Share on Twitter\"> <i class=\"fa fa-twitter\"></i> <span class=\"label\">Share on Twitter</span> </a> <a href=\"https://pinterest.com/pin/create/button/?url=https%3A%2F%2Fwww.analytixlabs.co.in%2Fblog%2F40-best-artificial-intelligence-quotes%2F&media=https%3A%2F%2Fwww.analytixlabs.co.in%2Fblog%2Fwp-content%2Fuploads%2F2022%2F03%2FBanner-Image-Analytix-Labs.jpg&description=40%20Best%20Artificial%20Intelligence%20Quotes\" class=\"cf service pinterest\" target=\"_blank\" title=\"Pinterest\"> <i class=\"fa fa-pinterest-p\"></i> <span class=\"label\">Pinterest</span> </a> <a href=\"https://www.linkedin.com/shareArticle?mini=true&url=https%3A%2F%2Fwww.analytixlabs.co.in%2Fblog%2F40-best-artificial-intelligence-quotes%2F\" class=\"cf service linkedin\" target=\"_blank\" title=\"LinkedIn\"> <i class=\"fa fa-linkedin\"></i> <span class=\"label\">LinkedIn</span> </a> <a href=\"/cdn-cgi/l/email-protection#7a45090f18101f190e474e4a5f484a381f090e5f484a3b080e131c1319131b165f484a33140e1f1616131d1f14191f5f484a2b0f150e1f095c18151e0347120e0e0a095f493b5f483c5f483c0d0d0d541b141b16030e1302161b18095419155413145f483c1816151d5f483c4e4a57181f090e571b080e131c1319131b165713140e1f1616131d1f14191f570b0f150e1f095f483c\" class=\"cf service email\" target=\"_blank\" title=\"Email\"> <i class=\"fa fa-envelope-o\"></i> <span class=\"label\">Email</span> </a></div></div></div><div class=\"post-content description cf entry-content has-share-float content-spacious\"><div id=\"ez-toc-container\" class=\"ez-toc-v2_0_44_1 counter-hierarchy ez-toc-counter ez-toc-grey ez-toc-container-direction\"><div class=\"ez-toc-title-container\"><p class=\"ez-toc-title\">Table of Contents</p> <span class=\"ez-toc-title-toggle\"><a href=\"#\" class=\"ez-toc-pull-right ez-toc-btn ez-toc-btn-xs ez-toc-btn-default ez-toc-toggle\" area-label=\"ez-toc-toggle-icon-1\"><label for=\"item-63ed9ac6f1271\" aria-label=\"Table of Content\"><span style=\"display: flex;align-items: center;width: 35px;height: 30px;justify-content: center;direction:ltr;\"><svg style=\"fill: #999;color:#999\" xmlns=\"http://www.w3.org/2000/svg\" class=\"list-377408\" width=\"20px\" height=\"20px\" viewBox=\"0 0 24 24\" fill=\"none\"><path d=\"M6 6H4v2h2V6zm14 0H8v2h12V6zM4 11h2v2H4v-2zm16 0H8v2h12v-2zM4 16h2v2H4v-2zm16 0H8v2h12v-2z\" fill=\"currentColor\"></path></svg><svg style=\"fill: #999;color:#999\" class=\"arrow-unsorted-368013\" xmlns=\"http://www.w3.org/2000/svg\" width=\"10px\" height=\"10px\" viewBox=\"0 0 24 24\" version=\"1.2\" baseProfile=\"tiny\"><path d=\"M18.2 9.3l-6.2-6.3-6.2 6.3c-.2.2-.3.4-.3.7s.1.5.3.7c.2.2.4.3.7.3h11c.3 0 .5-.1.7-.3.2-.2.3-.5.3-.7s-.1-.5-.3-.7zM5.8 14.7l6.2 6.3 6.2-6.3c.2-.2.3-.5.3-.7s-.1-.5-.3-.7c-.2-.2-.4-.3-.7-.3h-11c-.3 0-.5.1-.7.3-.2.2-.3.5-.3.7s.1.5.3.7z\" /></svg></span></label><input type=\"checkbox\" id=\"item-63ed9ac6f1271\"></a></span></div><nav><ul class=\\'ez-toc-list ez-toc-list-level-1 \\'><li class=\\'ez-toc-page-1 ez-toc-heading-level-2\\'><a class=\"ez-toc-link ez-toc-heading-1\" href=\"#Preface\" title=\"Preface\">Preface</a></li><li class=\\'ez-toc-page-1 ez-toc-heading-level-2\\'><a class=\"ez-toc-link ez-toc-heading-2\" href=\"#Introduction\" title=\"Introduction\">Introduction</a></li><li class=\\'ez-toc-page-1 ez-toc-heading-level-2\\'><a class=\"ez-toc-link ez-toc-heading-3\" href=\"#Quotes_On_Humans_need_in_AI_evolution\" title=\"Quotes On Human&#8217;s need in AI evolution\">Quotes On Human&#8217;s need in AI evolution</a></li><li class=\\'ez-toc-page-1 ez-toc-heading-level-2\\'><a class=\"ez-toc-link ez-toc-heading-4\" href=\"#Quotes_On_Predicting_Singularity\" title=\"Quotes On Predicting Singularity\">Quotes On Predicting Singularity</a></li><li class=\\'ez-toc-page-1 ez-toc-heading-level-2\\'><a class=\"ez-toc-link ez-toc-heading-5\" href=\"#Quotes_On_AIs_evolution\" title=\"Quotes On AI\\xe2\\x80\\x99s evolution\">Quotes On AI\\xe2\\x80\\x99s evolution</a></li><li class=\\'ez-toc-page-1 ez-toc-heading-level-2\\'><a class=\"ez-toc-link ez-toc-heading-6\" href=\"#Quotes_On_AIs_lack_of_emotions\" title=\"Quotes On AI\\xe2\\x80\\x99s lack of emotions\">Quotes On AI\\xe2\\x80\\x99s lack of emotions</a></li><li class=\\'ez-toc-page-1 ez-toc-heading-level-2\\'><a class=\"ez-toc-link ez-toc-heading-7\" href=\"#Quotes_On_AI_regulation\" title=\"Quotes On AI regulation\">Quotes On AI regulation</a></li><li class=\\'ez-toc-page-1 ez-toc-heading-level-2\\'><a class=\"ez-toc-link ez-toc-heading-8\" href=\"#Conclusion\" title=\"Conclusion\">Conclusion</a></li></ul></nav></div><h2><span class=\"ez-toc-section\" id=\"Preface\"></span>Preface<span class=\"ez-toc-section-end\"></span></h2><p>The applications of Artificial Intelligence are everywhere around us, in our homes, in our offices, and in our devices. In this article, we have curated a list of the best quotes from famous personalities about AI. Read on to check some of the best quotes on how essential AI is and also how dangerous it can be if left unchecked or unregulated.</p><h2><span class=\"ez-toc-section\" id=\"Introduction\"></span>Introduction<span class=\"ez-toc-section-end\"></span></h2><p>AI is everywhere, it is also on our minds. Especially with many of us not knowing how far AI will evolve and when it will finally overtake us in terms of intelligence or resources. AI has a vast amount of control already and has started replacing humans in multiple spheres of life, however, it is also making jobs easier for us and is allowing us to spend more time doing what we love. Regardless of how beneficial advanced AI is, there is always the fear of AI going out of control or becoming too powerful for us to do anything about it. There might be a point in the future where we just have to watch AI take over with our hands tied behind our backs. But that is only one of the thousand possibilities among mostly positive probabilities. Let\\xe2\\x80\\x99s check some famous quotes about AI that speak of the probable negative impacts of AI and also how important AI is.</p><p></p><h2 id=\"sub1\"><span class=\"ez-toc-section\" id=\"Quotes_On_Humans_need_in_AI_evolution\"></span>Quotes On Human&#8217;s need in AI evolution<span class=\"ez-toc-section-end\"></span></h2><p>AI is absolutely necessary in order for us to advance further and also for curbing disease, famine, and many other major world problems. Here are some quotes that show how much we need AI.</p><p>\\xe2\\x80\\x9cThe coming era of Artificial Intelligence will not be the era of war, but be the era of deep compassion, non-violence, and love.\\xe2\\x80\\x9d</p><p>&#8211; Amit Ray</p><p>\\xe2\\x80\\x9cArtificial intelligence would be the ultimate version of Google. The ultimate search engine that would understand everything on the web. It would understand exactly what you wanted, and it would give you the right thing. We\\xe2\\x80\\x99re nowhere near doing that now. However, we can get incrementally closer to that, and that is basically what we work on.\\xe2\\x80\\x9d</p><p>&#8211; Larry Page</p><p>\\xe2\\x80\\x9cCyber hygiene, patching vulnerabilities, security by design, threat hunting, and machine learning-based artificial intelligence are mandatory prerequisites for cyber defense against the next generation threat landscape.\\xe2\\x80\\x9d</p><p>&#8211; James Scott</p><p>\\xe2\\x80\\x9cYou have to talk about \\xe2\\x80\\x98The Terminator&#8217; if you\\xe2\\x80\\x99re talking about artificial intelligence. I actually think that that\\xe2\\x80\\x99s way off. I don\\xe2\\x80\\x99t think that an artificially intelligent system that has superhuman intelligence will be violent. I do think that it will disrupt our culture.\\xe2\\x80\\x9d</p><p>&#8211; Gray Scott</p><p>\\xe2\\x80\\x9cI believe that at the end of the century the use of words and general educated opinion will have altered so much that one will be able to speak of machines thinking without expecting to be contradicted.\\xe2\\x80\\x9d</p><p>&#8211; Alan Turing</p><p>\\xe2\\x80\\x9cRobots are not going to replace humans, they are going to make their jobs much more humane. Difficult, demeaning, demanding, dangerous, dull \\xe2\\x80\\x93 these are the jobs robots will be taking.</p><p>&#8211; Sabine Hauert</p><p>\\xe2\\x80\\x9cThe ultimate search engine would understand everything in the world. It would understand everything that you asked it and give you back the exact right thing instantly. You could ask \\xe2\\x80\\x98what should I ask Larry?\\xe2\\x80\\x99 and it would tell you.\\xe2\\x80\\x9d&nbsp;</p><p>&#8211; Larry Page</p><p>\\xe2\\x80\\x9cThe key to artificial intelligence has always been the representation.\\xe2\\x80\\x9d</p><p>&#8211; Jeff Hawkins</p><p>\\xe2\\x80\\x9cSome people call this artificial intelligence, but the reality is this technology will enhance us. So instead of artificial intelligence, I think we\\xe2\\x80\\x99ll augment our intelligence.\\xe2\\x80\\x9d</p><p>&#8211; Ginni Rometty</p><figure class=\"wp-block-image size-full\"><img width=\"1024\" height=\"597\" src=\"data:image/svg+xml,%3Csvg%20xmlns=\\'http://www.w3.org/2000/svg\\'%20viewBox=\\'0%200%201024%20597\\'%3E%3C/svg%3E\" alt=\"Quotes on human\\'s need in AI evolution\" class=\"wp-image-8499\" data-lazy-srcset=\"//www.analytixlabs.co.in/blog/wp-content/uploads/2022/03/Quotes-On-Humans-need-in-AI-evolution-analytix-labs-1.jpg 1024w, //www.analytixlabs.co.in/blog/wp-content/uploads/2022/03/Quotes-On-Humans-need-in-AI-evolution-analytix-labs-1-300x175.jpg 300w, //www.analytixlabs.co.in/blog/wp-content/uploads/2022/03/Quotes-On-Humans-need-in-AI-evolution-analytix-labs-1-768x448.jpg 768w\" data-lazy-sizes=\"(max-width: 1024px) 100vw, 1024px\" data-lazy-src=\"//www.analytixlabs.co.in/blog/wp-content/uploads/2022/03/Quotes-On-Humans-need-in-AI-evolution-analytix-labs-1.jpg\" /><noscript><img width=\"1024\" height=\"597\" src=\"//www.analytixlabs.co.in/blog/wp-content/uploads/2022/03/Quotes-On-Humans-need-in-AI-evolution-analytix-labs-1.jpg\" alt=\"Quotes on human\\'s need in AI evolution\" class=\"wp-image-8499\" srcset=\"//www.analytixlabs.co.in/blog/wp-content/uploads/2022/03/Quotes-On-Humans-need-in-AI-evolution-analytix-labs-1.jpg 1024w, //www.analytixlabs.co.in/blog/wp-content/uploads/2022/03/Quotes-On-Humans-need-in-AI-evolution-analytix-labs-1-300x175.jpg 300w, //www.analytixlabs.co.in/blog/wp-content/uploads/2022/03/Quotes-On-Humans-need-in-AI-evolution-analytix-labs-1-768x448.jpg 768w\" sizes=\"(max-width: 1024px) 100vw, 1024px\" /></noscript></figure><h2 id=\"sub2\"><span class=\"ez-toc-section\" id=\"Quotes_On_Predicting_Singularity\"></span>Quotes On Predicting Singularity<span class=\"ez-toc-section-end\"></span></h2><p>Here are some quotes that show how exponentially AI might grow and eventually become uncontrollable.<strong>&nbsp;</strong></p><p>\\xe2\\x80\\x9cArtificial intelligence will reach human levels by around 2029. Follow that out further to, say, 2045, and we will have multiplied the intelligence \\xe2\\x80\\x93 the human biological machine intelligence of our civilization \\xe2\\x80\\x93 a billion-fold.\\xe2\\x80\\x9d</p><p>&#8211; Ray Kurzweil</p><p>\\xe2\\x80\\x9cMachine intelligence is the last invention that humanity will ever need to make.\\xe2\\x80\\x9d&nbsp;</p><p>&#8211; Nick Bostrom</p><p>\\xe2\\x80\\x9cSuccess in creating AI would be the biggest event in human history. Unfortunately, it might also be the last, unless we learn how to avoid the risks.\\xe2\\x80\\x9d</p><p>&#8211; Stephen Hawking</p><p>\\xe2\\x80\\x9cThe pace of progress in artificial intelligence (I\\xe2\\x80\\x99m not referring to narrow AI) is incredibly fast. Unless you have direct exposure to groups like Deepmind, you have no idea how fast\\xe2\\x80\\x94it is growing at a pace close to exponential. The risk of something seriously dangerous happening is in the five-year time frame. 10 years at most.\\xe2\\x80\\x9d</p><p>&#8211; Elon Musk</p><p>\\xe2\\x80\\x9cIt seems probable that once the machine thinking method had started, it would not take long to outstrip our feeble powers\\xe2\\x80\\xa6 They would be able to converse with each other to sharpen their wits. At some stage, therefore, we should have to expect the machines to take control.\\xe2\\x80\\x9d</p><p>&#8211; Alan Turing</p><p>\\xe2\\x80\\x9cIf people trust artificial intelligence (AI) to drive a car, people will most likely trust AI to do your job.\\xe2\\x80\\x9d&nbsp;</p><p>&#8211; Dave Waters</p><p>\\xe2\\x80\\x9cPeople worry that computers will get too smart and take over the world, but the real problem is that they&#8217;re too stupid and they&#8217;ve already taken over the world.\\xe2\\x80\\x9d</p><p>&#8211; Pedro Domingos</p><div class=\"wp-block-image\"><figure class=\"aligncenter size-full\"><img width=\"1024\" height=\"597\" src=\"data:image/svg+xml,%3Csvg%20xmlns=\\'http://www.w3.org/2000/svg\\'%20viewBox=\\'0%200%201024%20597\\'%3E%3C/svg%3E\" alt=\"Quotes on Predicting Singularity\" class=\"wp-image-8493\" data-lazy-srcset=\"//www.analytixlabs.co.in/blog/wp-content/uploads/2022/03/Quotes-On-predicting-singularity-Analytix-Labs.jpg 1024w, //www.analytixlabs.co.in/blog/wp-content/uploads/2022/03/Quotes-On-predicting-singularity-Analytix-Labs-300x175.jpg 300w, //www.analytixlabs.co.in/blog/wp-content/uploads/2022/03/Quotes-On-predicting-singularity-Analytix-Labs-768x448.jpg 768w\" data-lazy-sizes=\"(max-width: 1024px) 100vw, 1024px\" data-lazy-src=\"//www.analytixlabs.co.in/blog/wp-content/uploads/2022/03/Quotes-On-predicting-singularity-Analytix-Labs.jpg\" /><noscript><img width=\"1024\" height=\"597\" src=\"//www.analytixlabs.co.in/blog/wp-content/uploads/2022/03/Quotes-On-predicting-singularity-Analytix-Labs.jpg\" alt=\"Quotes on Predicting Singularity\" class=\"wp-image-8493\" srcset=\"//www.analytixlabs.co.in/blog/wp-content/uploads/2022/03/Quotes-On-predicting-singularity-Analytix-Labs.jpg 1024w, //www.analytixlabs.co.in/blog/wp-content/uploads/2022/03/Quotes-On-predicting-singularity-Analytix-Labs-300x175.jpg 300w, //www.analytixlabs.co.in/blog/wp-content/uploads/2022/03/Quotes-On-predicting-singularity-Analytix-Labs-768x448.jpg 768w\" sizes=\"(max-width: 1024px) 100vw, 1024px\" /></noscript></figure></div><h2 id=\"sub3\"><span class=\"ez-toc-section\" id=\"Quotes_On_AIs_evolution\"></span>Quotes On AI\\xe2\\x80\\x99s evolution<span class=\"ez-toc-section-end\"></span></h2><p>If you wish to contribute to AI, you can take up courses on AI from one of the most reputed learning platforms in India, <a href=\"https://www.analytixlabs.co.in/\">AnalytixLabs</a>. Analytixlabs is one of the leading learning providers of Data Science, Analytics, and AI. Here are some major quotes about the evolution of AI.</p><p>\\xe2\\x80\\x9cAnything that could give rise to smarter-than-human intelligence\\xe2\\x80\\x94in the form of Artificial Intelligence, brain-computer interfaces, or neuroscience-based human intelligence enhancement \\xe2\\x80\\x93 wins hands down beyond contest as doing the most to change the world. Nothing else is even in the same league.\\xe2\\x80\\x9d</p><p>&#8211; Eliezer Yudkowsky</p><p>\\xe2\\x80\\x9cSome people worry that artificial intelligence will make us feel inferior, but then, anybody in his right mind should have an inferiority complex every time he looks at a flower.\\xe2\\x80\\x9d</p><p>&#8211; Alan Kay</p><p>\\xe2\\x80\\x9cArtificial intelligence will reach human levels by around 2029. Follow that out further to, say, 2045, we will have multiplied the intelligence, the human biological machine intelligence of our civilization a billion-fold.\\xe2\\x80\\x9d</p><p>&#8211; Ray Kurzweil</p><p>\\xe2\\x80\\x9cI visualise a time when we will be to robots what dogs are to humans, and I\\xe2\\x80\\x99m rooting for the machines.\\xe2\\x80\\x9d</p><p>&#8211; Claude Shannon</p><p>\\xe2\\x80\\x9cIt\\xe2\\x80\\x99s going to be interesting to see how society deals with artificial intelligence, but it will definitely be cool.\\xe2\\x80\\x9d</p><p>&#8211; Colin Angle</p><p>\\xe2\\x80\\x9cArtificial intelligence is growing up fast, as are robots whose facial expressions can elicit empathy and make your mirror neurons quiver.\\xe2\\x80\\x9d</p><p>&#8211; Diane Ackerman</p><p>\\xe2\\x80\\x9cA computer would deserve to be called intelligent if it could deceive a human into believing that it was human.\\xe2\\x80\\x9d</p><p>&#8211; Alan Turing</p><figure class=\"wp-block-image size-full\"><img width=\"1024\" height=\"597\" src=\"data:image/svg+xml,%3Csvg%20xmlns=\\'http://www.w3.org/2000/svg\\'%20viewBox=\\'0%200%201024%20597\\'%3E%3C/svg%3E\" alt=\"Quotes on AI\\'s evolution\" class=\"wp-image-8495\" data-lazy-srcset=\"//www.analytixlabs.co.in/blog/wp-content/uploads/2022/03/Quotes-On-AI-evolution-Analytix-Labs-1.jpg 1024w, //www.analytixlabs.co.in/blog/wp-content/uploads/2022/03/Quotes-On-AI-evolution-Analytix-Labs-1-300x175.jpg 300w, //www.analytixlabs.co.in/blog/wp-content/uploads/2022/03/Quotes-On-AI-evolution-Analytix-Labs-1-768x448.jpg 768w\" data-lazy-sizes=\"(max-width: 1024px) 100vw, 1024px\" data-lazy-src=\"//www.analytixlabs.co.in/blog/wp-content/uploads/2022/03/Quotes-On-AI-evolution-Analytix-Labs-1.jpg\" /><noscript><img width=\"1024\" height=\"597\" src=\"//www.analytixlabs.co.in/blog/wp-content/uploads/2022/03/Quotes-On-AI-evolution-Analytix-Labs-1.jpg\" alt=\"Quotes on AI\\'s evolution\" class=\"wp-image-8495\" srcset=\"//www.analytixlabs.co.in/blog/wp-content/uploads/2022/03/Quotes-On-AI-evolution-Analytix-Labs-1.jpg 1024w, //www.analytixlabs.co.in/blog/wp-content/uploads/2022/03/Quotes-On-AI-evolution-Analytix-Labs-1-300x175.jpg 300w, //www.analytixlabs.co.in/blog/wp-content/uploads/2022/03/Quotes-On-AI-evolution-Analytix-Labs-1-768x448.jpg 768w\" sizes=\"(max-width: 1024px) 100vw, 1024px\" /></noscript></figure><h2 id=\"sub4\"><span class=\"ez-toc-section\" id=\"Quotes_On_AIs_lack_of_emotions\"></span>Quotes On AI\\xe2\\x80\\x99s lack of emotions<span class=\"ez-toc-section-end\"></span></h2><p>Here are some quotes that imply how AI lacks emotions and can never truly understand the value of human beings.</p><p>\\xe2\\x80\\x9cI\\xe2\\x80\\x99m more frightened than interested by artificial intelligence \\xe2\\x80\\x93 in fact, perhaps fright and interest are not far away from one another. Things can become real in your mind, you can be tricked, and you believe things you wouldn\\xe2\\x80\\x99t ordinarily. A world run by automatons doesn\\xe2\\x80\\x99t seem completely unrealistic anymore. It\\xe2\\x80\\x99s a bit chilling.\\xe2\\x80\\x9d</p><p>&#8211; Gemma Whelan</p><p>\\xe2\\x80\\x9cWhy give a robot an order to obey orders\\xe2\\x80\\x94why aren&#8217;t the original orders enough? Why command a robot not to do harm\\xe2\\x80\\x94wouldn&#8217;t it be easier never to command it to do harm in the first place?\\xe2\\x80\\x9d</p><p>&#8211; Steven Pinker</p><p>\\xe2\\x80\\x9cAI doesn\\xe2\\x80\\x99t have to be evil to destroy humanity \\xe2\\x80\\x93 if AI has a goal and humanity just happens to come in the way, it will destroy humanity as a matter of course without even thinking about it, no hard feelings.\\xe2\\x80\\x9d</p><p>&#8211; Elon Musk</p><p>\\xe2\\x80\\x9cAs more and more artificial intelligence is entering into the world, more and more emotional intelligence must enter into leadership.\\xe2\\x80\\x9d</p><p>&#8211; Amit Ray</p><p>\\xe2\\x80\\x9cI\\xe2\\x80\\x99m increasingly inclined to think that there should be some regulatory oversight, maybe at the national and international level, just to make sure that we don\\xe2\\x80\\x99t do something very foolish. I mean with artificial intelligence we\\xe2\\x80\\x99re summoning the demon.\\xe2\\x80\\x9d&nbsp;</p><p>&#8211; Elon Musk</p><p>&#8220;As more and more artificial intelligence is entering into the world, more and more emotional intelligence must enter into leadership.&#8221;</p><p>&#8211; Amit Ray</p><p>\\xe2\\x80\\x9cI&#8217;m more frightened than interested by artificial intelligence &#8211; in fact, perhaps fright and interest are not far away from one another. Things can become real in your mind, you can be tricked, and you believe things you wouldn&#8217;t ordinarily. A world run by automatons doesn&#8217;t seem completely unrealistic anymore. It&#8217;s a bit chilling.\\xe2\\x80\\x9d&nbsp;</p><p>&#8211; Gemma Whelan</p><p>\\xe2\\x80\\x9cThe upheavals [of artificial intelligence] can escalate quickly and become scarier and even cataclysmic. Imagine how a medical robot, originally programmed to rid cancer, could conclude that the best way to obliterate cancer is to exterminate humans who are genetically prone to the disease.\\xe2\\x80\\x9d</p><p>&#8211; Nick Bilton</p><p>\\xe2\\x80\\x9cThe development of full artificial intelligence could spell the end of the human race\\xe2\\x80\\xa6.It would take off on its own, and re-design itself at an ever-increasing rate. Humans, who are limited by slow biological evolution, couldn\\xe2\\x80\\x99t compete, and would be superseded.\\xe2\\x80\\x9d</p><p>&#8211; Stephen Hawking</p><div class=\"wp-block-image\"><figure class=\"aligncenter size-full\"><img width=\"1024\" height=\"597\" src=\"data:image/svg+xml,%3Csvg%20xmlns=\\'http://www.w3.org/2000/svg\\'%20viewBox=\\'0%200%201024%20597\\'%3E%3C/svg%3E\" alt=\"Quotes on AI\\'s lack of emotions\" class=\"wp-image-8496\" data-lazy-srcset=\"//www.analytixlabs.co.in/blog/wp-content/uploads/2022/03/Quotes-On-AI-lack-of-emotions-Analytix-Labs-1.jpg 1024w, //www.analytixlabs.co.in/blog/wp-content/uploads/2022/03/Quotes-On-AI-lack-of-emotions-Analytix-Labs-1-300x175.jpg 300w, //www.analytixlabs.co.in/blog/wp-content/uploads/2022/03/Quotes-On-AI-lack-of-emotions-Analytix-Labs-1-768x448.jpg 768w\" data-lazy-sizes=\"(max-width: 1024px) 100vw, 1024px\" data-lazy-src=\"//www.analytixlabs.co.in/blog/wp-content/uploads/2022/03/Quotes-On-AI-lack-of-emotions-Analytix-Labs-1.jpg\" /><noscript><img width=\"1024\" height=\"597\" src=\"//www.analytixlabs.co.in/blog/wp-content/uploads/2022/03/Quotes-On-AI-lack-of-emotions-Analytix-Labs-1.jpg\" alt=\"Quotes on AI\\'s lack of emotions\" class=\"wp-image-8496\" srcset=\"//www.analytixlabs.co.in/blog/wp-content/uploads/2022/03/Quotes-On-AI-lack-of-emotions-Analytix-Labs-1.jpg 1024w, //www.analytixlabs.co.in/blog/wp-content/uploads/2022/03/Quotes-On-AI-lack-of-emotions-Analytix-Labs-1-300x175.jpg 300w, //www.analytixlabs.co.in/blog/wp-content/uploads/2022/03/Quotes-On-AI-lack-of-emotions-Analytix-Labs-1-768x448.jpg 768w\" sizes=\"(max-width: 1024px) 100vw, 1024px\" /></noscript></figure></div><h2 id=\"sub5\"><span class=\"ez-toc-section\" id=\"Quotes_On_AI_regulation\"></span>Quotes On AI regulation<span class=\"ez-toc-section-end\"></span></h2><p>Here are some popular quotes that speak about regulating AI in order to avoid the drastic effects we will experience if we leave AI unchecked.</p><p>\\xe2\\x80\\x9cWe must address, individually and collectively, moral and ethical issues raised by cutting-edge research in artificial intelligence and biotechnology, which will enable significant life extension, designer babies, and memory extraction.\\xe2\\x80\\x9d</p><p>&#8211; Klaus Schwab</p><p>\\xe2\\x80\\x9cIf the government regulates against the use of drones or stem cells or artificial intelligence, all that means is that the work and the research leave the borders of that country and go someplace else.\\xe2\\x80\\x9d</p><p>&#8211; Peter Diamandis</p><p>\\xe2\\x80\\x9cThe real question is, when will we draft an artificial intelligence bill of rights? What will that consist of? And who will get to decide that?\\xe2\\x80\\x9d</p><p>&#8211; Gray Scott</p><p>\\xe2\\x80\\x9cBy far, the greatest danger of Artificial Intelligence is that people conclude too early that they understand it.\\xe2\\x80\\x9d</p><p>&#8211; Eliezer Yudkowsky</p><p>\\xe2\\x80\\x9cIf we do it right, we might be able to evolve a form of work that taps into our uniquely human capabilities and restores our humanity. The ultimate paradox is that this technology may become a powerful catalyst that we need to reclaim our humanity.\\xe2\\x80\\x9d</p><p>&#8211; John Hagel</p><p>\\xe2\\x80\\x9cI\\xe2\\x80\\x99m increasingly inclined to think that there should be some regulatory oversight, maybe at the national and international level, just to make sure that we don\\xe2\\x80\\x99t do something very foolish. I mean with artificial intelligence we\\xe2\\x80\\x99re summoning the demon.\\xe2\\x80\\x9d</p><p>&#8211; Elon Musk</p><p>\\xe2\\x80\\x9cI don\\xe2\\x80\\x99t want to really scare you, but it was alarming how many people I talked to who are highly placed people in AI who have retreats that are sort of \\xe2\\x80\\x98bug out\\xe2\\x80\\x99 houses, to which they could flee if it all hits the fan.\\xe2\\x80\\x9d</p><p>&#8211; James Barrat</p><p>\\xe2\\x80\\x9cWe have seen AI providing conversation and comfort to the lonely; we have also seen AI engaging in racial discrimination. Yet the biggest harm that AI is likely to do to individuals in the short term is job displacement, as the amount of work we can automate with AI is vastly larger than before. As leaders, it is incumbent on all of us to make sure we are building a world in which every individual has an opportunity to thrive.\\xe2\\x80\\x9d</p><p>&#8211; Andrew Ng</p><figure class=\"wp-block-image size-full\"><img width=\"1024\" height=\"597\" src=\"data:image/svg+xml,%3Csvg%20xmlns=\\'http://www.w3.org/2000/svg\\'%20viewBox=\\'0%200%201024%20597\\'%3E%3C/svg%3E\" alt=\"Quotes on AI regulation\" class=\"wp-image-8498\" data-lazy-srcset=\"//www.analytixlabs.co.in/blog/wp-content/uploads/2022/03/Quotes-On-AI-regulation-Analytix-Labs.jpg 1024w, //www.analytixlabs.co.in/blog/wp-content/uploads/2022/03/Quotes-On-AI-regulation-Analytix-Labs-300x175.jpg 300w, //www.analytixlabs.co.in/blog/wp-content/uploads/2022/03/Quotes-On-AI-regulation-Analytix-Labs-768x448.jpg 768w\" data-lazy-sizes=\"(max-width: 1024px) 100vw, 1024px\" data-lazy-src=\"//www.analytixlabs.co.in/blog/wp-content/uploads/2022/03/Quotes-On-AI-regulation-Analytix-Labs.jpg\" /><noscript><img width=\"1024\" height=\"597\" src=\"//www.analytixlabs.co.in/blog/wp-content/uploads/2022/03/Quotes-On-AI-regulation-Analytix-Labs.jpg\" alt=\"Quotes on AI regulation\" class=\"wp-image-8498\" srcset=\"//www.analytixlabs.co.in/blog/wp-content/uploads/2022/03/Quotes-On-AI-regulation-Analytix-Labs.jpg 1024w, //www.analytixlabs.co.in/blog/wp-content/uploads/2022/03/Quotes-On-AI-regulation-Analytix-Labs-300x175.jpg 300w, //www.analytixlabs.co.in/blog/wp-content/uploads/2022/03/Quotes-On-AI-regulation-Analytix-Labs-768x448.jpg 768w\" sizes=\"(max-width: 1024px) 100vw, 1024px\" /></noscript></figure><h2 id=\"sub6\"><span class=\"ez-toc-section\" id=\"Conclusion\"></span>Conclusion<span class=\"ez-toc-section-end\"></span></h2><p>We will only find out the true extent of AI\\xe2\\x80\\x99s capabilities in time. Even then, we might never truly be able to understand how powerful AI is. Honestly speaking, AI is limitless and can do anything, eventually. Thus, we must take care to not let AI get out of hand or not hand over resources to AI that it can use against us. However, we must also not let our fears get the better of us and allow AI to offer us the benefits that it can deliver in the fields of medicine, healthcare, biotechnology and so many other industries that allow us to sustain ourselves.</p></div><div class=\"the-post-foot cf\"><div class=\"tag-share cf\"><div class=\"post-share\"><div class=\"post-share-icons cf\"> <span class=\"counters\"> <a href=\"#\" class=\"likes-count fa fa-heart-o\" data-id=\"8490\" title=\"\"><span class=\"number\">1</span></a> </span> <a href=\"https://www.facebook.com/sharer.php?u=https%3A%2F%2Fwww.analytixlabs.co.in%2Fblog%2F40-best-artificial-intelligence-quotes%2F\" class=\"link facebook\" target=\"_blank\" title=\"Share on Facebook\"><i class=\"fa fa-facebook\"></i></a> <a href=\"https://twitter.com/intent/tweet?url=https%3A%2F%2Fwww.analytixlabs.co.in%2Fblog%2F40-best-artificial-intelligence-quotes%2F&#038;text=40%20Best%20Artificial%20Intelligence%20Quotes\" class=\"link twitter\" target=\"_blank\" title=\"Share on Twitter\"><i class=\"fa fa-twitter\"></i></a> <a href=\"https://www.linkedin.com/shareArticle?mini=true&#038;url=https%3A%2F%2Fwww.analytixlabs.co.in%2Fblog%2F40-best-artificial-intelligence-quotes%2F\" class=\"link linkedin\" target=\"_blank\" title=\"LinkedIn\"><i class=\"fa fa-linkedin\"></i></a> <a href=\"https://pinterest.com/pin/create/button/?url=https%3A%2F%2Fwww.analytixlabs.co.in%2Fblog%2F40-best-artificial-intelligence-quotes%2F&#038;media=https%3A%2F%2Fwww.analytixlabs.co.in%2Fblog%2Fwp-content%2Fuploads%2F2022%2F03%2FBanner-Image-Analytix-Labs.jpg&#038;description=40%20Best%20Artificial%20Intelligence%20Quotes\" class=\"link pinterest\" target=\"_blank\" title=\"Pinterest\"><i class=\"fa fa-pinterest-p\"></i></a></div></div></div></div><div class=\"author-box author-box-b cf\"><div class=\"image\"><img alt=\\'\\' src=\"data:image/svg+xml,%3Csvg%20xmlns=\\'http://www.w3.org/2000/svg\\'%20viewBox=\\'0%200%2096%2096\\'%3E%3C/svg%3E\" data-lazy-srcset=\\'https://secure.gravatar.com/avatar/cee4c4904d8ec2ad1123df34e12dc15a?s=192&#038;d=mm&#038;r=g 2x\\' class=\\'avatar avatar-96 photo\\' height=\\'96\\' width=\\'96\\' data-lazy-src=\"//secure.gravatar.com/avatar/cee4c4904d8ec2ad1123df34e12dc15a?s=96&#038;d=mm&#038;r=g\" /><noscript><img alt=\\'\\' src=\\'//secure.gravatar.com/avatar/cee4c4904d8ec2ad1123df34e12dc15a?s=96&#038;d=mm&#038;r=g\\' srcset=\\'https://secure.gravatar.com/avatar/cee4c4904d8ec2ad1123df34e12dc15a?s=192&#038;d=mm&#038;r=g 2x\\' class=\\'avatar avatar-96 photo\\' height=\\'96\\' width=\\'96\\' /></noscript></div><div class=\"content\"> <span class=\"author\"> <a href=\"https://www.analytixlabs.co.in/blog/author/sudesh-anand/\" title=\"Posts by Sudesh Anand\" rel=\"author\">Sudesh Anand</a> </span><p class=\"text author-bio\"></p><ul class=\"social-icons\"></ul></div></div><section class=\"related-posts grid-2\"><h4 class=\"section-head\"><span class=\"title\">Related Posts</span></h4><div class=\"ts-row posts cf\"><article class=\"post col-4\"> <a href=\"https://www.analytixlabs.co.in/blog/ai-projects/\" title=\"15 Interesting AI Project Ideas to Brush Up Your Skills [+ 5 Bonus Inspirational Projects]\" class=\"image-link\"> <img width=\"370\" height=\"216\" src=\"data:image/svg+xml,%3Csvg%20xmlns=\\'http://www.w3.org/2000/svg\\'%20viewBox=\\'0%200%20370%20216\\'%3E%3C/svg%3E\" class=\"image wp-post-image\" alt=\"\" title=\"15 Interesting AI Project Ideas to Brush Up Your Skills [+ 5 Bonus Inspirational Projects]\" loading=\"lazy\" data-lazy-srcset=\"//www.analytixlabs.co.in/blog/wp-content/uploads/2020/09/Blag-Banner-01-1-3.jpg 2054w, //www.analytixlabs.co.in/blog/wp-content/uploads/2020/09/Blag-Banner-01-1-3-300x175.jpg 300w, //www.analytixlabs.co.in/blog/wp-content/uploads/2020/09/Blag-Banner-01-1-3-1024x597.jpg 1024w, //www.analytixlabs.co.in/blog/wp-content/uploads/2020/09/Blag-Banner-01-1-3-768x448.jpg 768w, //www.analytixlabs.co.in/blog/wp-content/uploads/2020/09/Blag-Banner-01-1-3-1536x896.jpg 1536w\" data-lazy-sizes=\"(max-width: 370px) 100vw, 370px\" data-lazy-src=\"//www.analytixlabs.co.in/blog/wp-content/uploads/2020/09/Blag-Banner-01-1-3.jpg\" /><noscript><img width=\"370\" height=\"216\" src=\"//www.analytixlabs.co.in/blog/wp-content/uploads/2020/09/Blag-Banner-01-1-3.jpg\" class=\"image wp-post-image\" alt=\"\" title=\"15 Interesting AI Project Ideas to Brush Up Your Skills [+ 5 Bonus Inspirational Projects]\" loading=\"lazy\" srcset=\"//www.analytixlabs.co.in/blog/wp-content/uploads/2020/09/Blag-Banner-01-1-3.jpg 2054w, //www.analytixlabs.co.in/blog/wp-content/uploads/2020/09/Blag-Banner-01-1-3-300x175.jpg 300w, //www.analytixlabs.co.in/blog/wp-content/uploads/2020/09/Blag-Banner-01-1-3-1024x597.jpg 1024w, //www.analytixlabs.co.in/blog/wp-content/uploads/2020/09/Blag-Banner-01-1-3-768x448.jpg 768w, //www.analytixlabs.co.in/blog/wp-content/uploads/2020/09/Blag-Banner-01-1-3-1536x896.jpg 1536w\" sizes=\"(max-width: 370px) 100vw, 370px\" /></noscript> </a><div class=\"content\"><h3 class=\"post-title\"><a href=\"https://www.analytixlabs.co.in/blog/ai-projects/\" class=\"post-link\">15 Interesting AI Project Ideas to Brush Up Your Skills [+ 5 Bonus Inspirational Projects]</a></h3><div class=\"post-meta\"> <time class=\"post-date\" datetime=\"2022-12-06T10:00:37+00:00\">December 6, 2022</time></div></div></article ><article class=\"post col-4\"> <a href=\"https://www.analytixlabs.co.in/blog/twitter-sentiment-analysis/\" title=\"How To Perform Twitter Sentiment Analysis &#8211; Tools And Techniques\" class=\"image-link\"> <img width=\"370\" height=\"245\" src=\"data:image/svg+xml,%3Csvg%20xmlns=\\'http://www.w3.org/2000/svg\\'%20viewBox=\\'0%200%20370%20245\\'%3E%3C/svg%3E\" class=\"image wp-post-image\" alt=\"\" title=\"How To Perform Twitter Sentiment Analysis &#8211; Tools And Techniques\" loading=\"lazy\" data-lazy-srcset=\"//www.analytixlabs.co.in/blog/wp-content/uploads/2022/10/Twitter-Sentiment-Analysis-Tools-and-Techniques-370x245.png 370w, //www.analytixlabs.co.in/blog/wp-content/uploads/2022/10/Twitter-Sentiment-Analysis-Tools-and-Techniques-270x180.png 270w\" data-lazy-sizes=\"(max-width: 370px) 100vw, 370px\" data-lazy-src=\"//www.analytixlabs.co.in/blog/wp-content/uploads/2022/10/Twitter-Sentiment-Analysis-Tools-and-Techniques-370x245.png\" /><noscript><img width=\"370\" height=\"245\" src=\"//www.analytixlabs.co.in/blog/wp-content/uploads/2022/10/Twitter-Sentiment-Analysis-Tools-and-Techniques-370x245.png\" class=\"image wp-post-image\" alt=\"\" title=\"How To Perform Twitter Sentiment Analysis &#8211; Tools And Techniques\" loading=\"lazy\" srcset=\"//www.analytixlabs.co.in/blog/wp-content/uploads/2022/10/Twitter-Sentiment-Analysis-Tools-and-Techniques-370x245.png 370w, //www.analytixlabs.co.in/blog/wp-content/uploads/2022/10/Twitter-Sentiment-Analysis-Tools-and-Techniques-270x180.png 270w\" sizes=\"(max-width: 370px) 100vw, 370px\" /></noscript> </a><div class=\"content\"><h3 class=\"post-title\"><a href=\"https://www.analytixlabs.co.in/blog/twitter-sentiment-analysis/\" class=\"post-link\">How To Perform Twitter Sentiment Analysis &#8211; Tools And Techniques</a></h3><div class=\"post-meta\"> <time class=\"post-date\" datetime=\"2022-10-29T11:53:56+00:00\">October 29, 2022</time></div></div></article ><article class=\"post col-4\"> <a href=\"https://www.analytixlabs.co.in/blog/ai-engineer/\" title=\"How to Become an AI Engineer? Know about Skills, Role &#038; Salary\" class=\"image-link\"> <img width=\"370\" height=\"245\" src=\"data:image/svg+xml,%3Csvg%20xmlns=\\'http://www.w3.org/2000/svg\\'%20viewBox=\\'0%200%20370%20245\\'%3E%3C/svg%3E\" class=\"image wp-post-image\" alt=\"how to become an AI engineer\" title=\"How to Become an AI Engineer? Know about Skills, Role &#038; Salary\" loading=\"lazy\" data-lazy-srcset=\"//www.analytixlabs.co.in/blog/wp-content/uploads/2021/07/Artboard-3-100-370x245.jpg 370w, //www.analytixlabs.co.in/blog/wp-content/uploads/2021/07/Artboard-3-100-270x180.jpg 270w\" data-lazy-sizes=\"(max-width: 370px) 100vw, 370px\" data-lazy-src=\"//www.analytixlabs.co.in/blog/wp-content/uploads/2021/07/Artboard-3-100-370x245.jpg\" /><noscript><img width=\"370\" height=\"245\" src=\"//www.analytixlabs.co.in/blog/wp-content/uploads/2021/07/Artboard-3-100-370x245.jpg\" class=\"image wp-post-image\" alt=\"how to become an AI engineer\" title=\"How to Become an AI Engineer? Know about Skills, Role &#038; Salary\" loading=\"lazy\" srcset=\"//www.analytixlabs.co.in/blog/wp-content/uploads/2021/07/Artboard-3-100-370x245.jpg 370w, //www.analytixlabs.co.in/blog/wp-content/uploads/2021/07/Artboard-3-100-270x180.jpg 270w\" sizes=\"(max-width: 370px) 100vw, 370px\" /></noscript> </a><div class=\"content\"><h3 class=\"post-title\"><a href=\"https://www.analytixlabs.co.in/blog/ai-engineer/\" class=\"post-link\">How to Become an AI Engineer? Know about Skills, Role &#038; Salary</a></h3><div class=\"post-meta\"> <time class=\"post-date\" datetime=\"2022-10-11T04:18:29+00:00\">October 11, 2022</time></div></div></article ><article class=\"post col-4\"> <a href=\"https://www.analytixlabs.co.in/blog/what-is-artificial-intelligence-engineering/\" title=\"Artificial Intelligence Engineering: Definition and Applications\" class=\"image-link\"> <img width=\"370\" height=\"216\" src=\"data:image/svg+xml,%3Csvg%20xmlns=\\'http://www.w3.org/2000/svg\\'%20viewBox=\\'0%200%20370%20216\\'%3E%3C/svg%3E\" class=\"image wp-post-image\" alt=\"Understanding-Artificial-engineering--analytix-labs\" title=\"Artificial Intelligence Engineering: Definition and Applications\" loading=\"lazy\" data-lazy-srcset=\"//www.analytixlabs.co.in/blog/wp-content/uploads/2022/08/Understanding-Artificial-engineering-analytix-labs.jpeg 1024w, //www.analytixlabs.co.in/blog/wp-content/uploads/2022/08/Understanding-Artificial-engineering-analytix-labs-300x175.jpeg 300w, //www.analytixlabs.co.in/blog/wp-content/uploads/2022/08/Understanding-Artificial-engineering-analytix-labs-768x448.jpeg 768w\" data-lazy-sizes=\"(max-width: 370px) 100vw, 370px\" data-lazy-src=\"//www.analytixlabs.co.in/blog/wp-content/uploads/2022/08/Understanding-Artificial-engineering-analytix-labs.jpeg\" /><noscript><img width=\"370\" height=\"216\" src=\"//www.analytixlabs.co.in/blog/wp-content/uploads/2022/08/Understanding-Artificial-engineering-analytix-labs.jpeg\" class=\"image wp-post-image\" alt=\"Understanding-Artificial-engineering--analytix-labs\" title=\"Artificial Intelligence Engineering: Definition and Applications\" loading=\"lazy\" srcset=\"//www.analytixlabs.co.in/blog/wp-content/uploads/2022/08/Understanding-Artificial-engineering-analytix-labs.jpeg 1024w, //www.analytixlabs.co.in/blog/wp-content/uploads/2022/08/Understanding-Artificial-engineering-analytix-labs-300x175.jpeg 300w, //www.analytixlabs.co.in/blog/wp-content/uploads/2022/08/Understanding-Artificial-engineering-analytix-labs-768x448.jpeg 768w\" sizes=\"(max-width: 370px) 100vw, 370px\" /></noscript> </a><div class=\"content\"><h3 class=\"post-title\"><a href=\"https://www.analytixlabs.co.in/blog/what-is-artificial-intelligence-engineering/\" class=\"post-link\">Artificial Intelligence Engineering: Definition and Applications</a></h3><div class=\"post-meta\"> <time class=\"post-date\" datetime=\"2022-08-08T18:06:48+00:00\">August 8, 2022</time></div></div></article ></div></section><div class=\"comments\"><div id=\"comments\" class=\"comments-area\"><div id=\"respond\" class=\"comment-respond\"><h3 id=\"reply-title\" class=\"comment-reply-title\"><span class=\"section-head\"><span class=\"title\">Write A Comment</span></span> <small><a rel=\"nofollow\" id=\"cancel-comment-reply-link\" href=\"/blog/40-best-artificial-intelligence-quotes/#respond\" style=\"display:none;\">Cancel Reply</a></small></h3><form action=\"//www.analytixlabs.co.in/blog/wp-comments-post.php\" method=\"post\" id=\"commentform\" class=\"comment-form\"><div class=\"inline-field\"> <input name=\"author\" id=\"author\" type=\"text\" value=\"\" aria-required=\"true\" placeholder=\"Name\" required /></div><div class=\"inline-field\"> <input name=\"email\" id=\"email\" type=\"text\" value=\"\" aria-required=\"true\" placeholder=\"Email\" required /></div><div class=\"inline-field\"> <input name=\"url\" id=\"url\" type=\"text\" value=\"\" placeholder=\"Website\" /></div><div class=\"reply-field cf\"><textarea name=\"comment\" id=\"comment\" cols=\"45\" rows=\"7\" placeholder=\"Enter your comment here..\" aria-required=\"true\" required></textarea></div><p class=\"comment-form-cookies-consent\"> <input id=\"wp-comment-cookies-consent\" name=\"wp-comment-cookies-consent\" type=\"checkbox\" value=\"yes\" /> <label for=\"wp-comment-cookies-consent\">Save my name, email, and website in this browser for the next time I comment. </label></p><p class=\"form-submit\"><input name=\"submit\" type=\"submit\" id=\"comment-submit\" class=\"submit\" value=\"Post Comment\" /> <input type=\\'hidden\\' name=\\'comment_post_ID\\' value=\\'8490\\' id=\\'comment_post_ID\\' /> <input type=\\'hidden\\' name=\\'comment_parent\\' id=\\'comment_parent\\' value=\\'0\\' /></p><p style=\"display: none;\"><input type=\"hidden\" id=\"akismet_comment_nonce\" name=\"akismet_comment_nonce\" value=\"2028c7d54e\" /></p><p style=\"display: none !important;\"><label>&#916;<textarea name=\"ak_hp_textarea\" cols=\"45\" rows=\"8\" maxlength=\"100\"></textarea></label><input type=\"hidden\" id=\"ak_js_1\" name=\"ak_js\" value=\"199\" /><script data-cfasync=\"false\" src=\"/cdn-cgi/scripts/5c5dd728/cloudflare-static/email-decode.min.js\"></script><script>document.getElementById( \"ak_js_1\" ).setAttribute( \"value\", ( new Date() ).getTime() );</script></p></form></div></div></div></article></div><aside class=\"col-4 sidebar\"><div class=\"inner\"><ul><li id=\"text-4\" class=\"widget widget_text\"><div class=\"textwidget\"><h5 class=\"widget-title\"><span><a class=\"wpcf7-form-control has-spinner wpcf7-submit\" href=\"https://www.analytixlabs.co.in/blog/write-for-us\">Write For US</a></span></h5></div></li><li id=\"search-2\" class=\"widget widget_search\"><form method=\"get\" class=\"search-form\" action=\"//www.analytixlabs.co.in/blog/\"> <label> <span class=\"screen-reader-text\">Search for:</span> <input type=\"search\" class=\"search-field\" placeholder=\"Type and hit enter...\" value=\"\" name=\"s\" title=\"Search for:\" /> </label> <button type=\"submit\" class=\"search-submit\"><i class=\"fa fa-search\"></i></button></form></li><li id=\"recent-posts-2\" class=\"widget widget_recent_entries\"><h5 class=\"widget-title\"><span>Recent Posts</span></h5><ul><li> <a href=\"https://www.analytixlabs.co.in/blog/csv-file-in-python/\">How to Read CSV Files in Python?</a></li><li> <a href=\"https://www.analytixlabs.co.in/blog/data-engineering-interview/\">Data Engineering Interview Cheat Sheet: Top 31 Q&#038;A To Prepare For Your Interview</a></li><li> <a href=\"https://www.analytixlabs.co.in/blog/classification-in-machine-learning/\">What is Classification Algorithm in Machine Learning? With Examples</a></li><li> <a href=\"https://www.analytixlabs.co.in/blog/how-to-become-a-data-scientist/\">How to Become A Data Scientist in 2023- Step By Step Guide</a></li><li> <a href=\"https://www.analytixlabs.co.in/blog/what-is-the-syllabus-of-data-science/\">Data Science Course Syllabus for Beginners: Skills, Subjects, and Eligibility</a></li></ul></li><li id=\"tag_cloud-2\" class=\"widget widget_tag_cloud\"><h5 class=\"widget-title\"><span>Tags</span></h5><div class=\"tagcloud\"><a href=\"https://www.analytixlabs.co.in/blog/tag/analytics-course/\" class=\"tag-cloud-link tag-link-53 tag-link-position-1\" style=\"font-size: 8pt;\" aria-label=\"Analytics Course (3 items)\">Analytics Course</a> <a href=\"https://www.analytixlabs.co.in/blog/tag/analytics-training/\" class=\"tag-cloud-link tag-link-2 tag-link-position-2\" style=\"font-size: 18.626506024096pt;\" aria-label=\"analytics training (16 items)\">analytics training</a> <a href=\"https://www.analytixlabs.co.in/blog/tag/analytics-training-institute/\" class=\"tag-cloud-link tag-link-22 tag-link-position-3\" style=\"font-size: 13.903614457831pt;\" aria-label=\"analytics training institute (8 items)\">analytics training institute</a> <a href=\"https://www.analytixlabs.co.in/blog/tag/analytics-training-institute-delhi/\" class=\"tag-cloud-link tag-link-23 tag-link-position-4\" style=\"font-size: 9.6867469879518pt;\" aria-label=\"analytics training institute Delhi (4 items)\">analytics training institute Delhi</a> <a href=\"https://www.analytixlabs.co.in/blog/tag/artificial-intelligence/\" class=\"tag-cloud-link tag-link-102 tag-link-position-5\" style=\"font-size: 12.21686746988pt;\" aria-label=\"Artificial Intelligence (6 items)\">Artificial Intelligence</a> <a href=\"https://www.analytixlabs.co.in/blog/tag/big-data/\" class=\"tag-cloud-link tag-link-55 tag-link-position-6\" style=\"font-size: 18.120481927711pt;\" aria-label=\"Big Data (15 items)\">Big Data</a> <a href=\"https://www.analytixlabs.co.in/blog/tag/big-data-analytics/\" class=\"tag-cloud-link tag-link-56 tag-link-position-7\" style=\"font-size: 18.626506024096pt;\" aria-label=\"Big Data Analytics (16 items)\">Big Data Analytics</a> <a href=\"https://www.analytixlabs.co.in/blog/tag/big-data-analytics-training/\" class=\"tag-cloud-link tag-link-99 tag-link-position-8\" style=\"font-size: 8pt;\" aria-label=\"Big Data Analytics training (3 items)\">Big Data Analytics training</a> <a href=\"https://www.analytixlabs.co.in/blog/tag/big-data-and-hadoop/\" class=\"tag-cloud-link tag-link-65 tag-link-position-9\" style=\"font-size: 12.21686746988pt;\" aria-label=\"Big Data and Hadoop (6 items)\">Big Data and Hadoop</a> <a href=\"https://www.analytixlabs.co.in/blog/tag/big-data-hadoop-certification/\" class=\"tag-cloud-link tag-link-141 tag-link-position-10\" style=\"font-size: 9.6867469879518pt;\" aria-label=\"big data Hadoop certification (4 items)\">big data Hadoop certification</a> <a href=\"https://www.analytixlabs.co.in/blog/tag/big-data-machine-learning/\" class=\"tag-cloud-link tag-link-161 tag-link-position-11\" style=\"font-size: 11.036144578313pt;\" aria-label=\"Big data machine learning (5 items)\">Big data machine learning</a> <a href=\"https://www.analytixlabs.co.in/blog/tag/business-analyst/\" class=\"tag-cloud-link tag-link-180 tag-link-position-12\" style=\"font-size: 9.6867469879518pt;\" aria-label=\"Business Analyst (4 items)\">Business Analyst</a> <a href=\"https://www.analytixlabs.co.in/blog/tag/business-analytics/\" class=\"tag-cloud-link tag-link-67 tag-link-position-13\" style=\"font-size: 15.421686746988pt;\" aria-label=\"Business Analytics (10 items)\">Business Analytics</a> <a href=\"https://www.analytixlabs.co.in/blog/tag/business-analytics-certification/\" class=\"tag-cloud-link tag-link-48 tag-link-position-14\" style=\"font-size: 13.060240963855pt;\" aria-label=\"Business Analytics Certification (7 items)\">Business Analytics Certification</a> <a href=\"https://www.analytixlabs.co.in/blog/tag/business-analytics-certification-courses/\" class=\"tag-cloud-link tag-link-49 tag-link-position-15\" style=\"font-size: 8pt;\" aria-label=\"Business Analytics Certification Courses (3 items)\">Business Analytics Certification Courses</a> <a href=\"https://www.analytixlabs.co.in/blog/tag/business-analytics-course/\" class=\"tag-cloud-link tag-link-78 tag-link-position-16\" style=\"font-size: 16.096385542169pt;\" aria-label=\"Business analytics course (11 items)\">Business analytics course</a> <a href=\"https://www.analytixlabs.co.in/blog/tag/business-analytics-courses/\" class=\"tag-cloud-link tag-link-50 tag-link-position-17\" style=\"font-size: 12.21686746988pt;\" aria-label=\"Business Analytics Courses (6 items)\">Business Analytics Courses</a> <a href=\"https://www.analytixlabs.co.in/blog/tag/business-analytics-courses-in-india/\" class=\"tag-cloud-link tag-link-52 tag-link-position-18\" style=\"font-size: 9.6867469879518pt;\" aria-label=\"Business Analytics Courses in India (4 items)\">Business Analytics Courses in India</a> <a href=\"https://www.analytixlabs.co.in/blog/tag/business-analytics-training/\" class=\"tag-cloud-link tag-link-135 tag-link-position-19\" style=\"font-size: 12.21686746988pt;\" aria-label=\"business analytics training (6 items)\">business analytics training</a> <a href=\"https://www.analytixlabs.co.in/blog/tag/data-analytics/\" class=\"tag-cloud-link tag-link-98 tag-link-position-20\" style=\"font-size: 9.6867469879518pt;\" aria-label=\"data analytics (4 items)\">data analytics</a> <a href=\"https://www.analytixlabs.co.in/blog/tag/data-science/\" class=\"tag-cloud-link tag-link-68 tag-link-position-21\" style=\"font-size: 15.421686746988pt;\" aria-label=\"Data Science (10 items)\">Data Science</a> <a href=\"https://www.analytixlabs.co.in/blog/tag/data-science-certificate/\" class=\"tag-cloud-link tag-link-143 tag-link-position-22\" style=\"font-size: 11.036144578313pt;\" aria-label=\"data science certificate (5 items)\">data science certificate</a> <a href=\"https://www.analytixlabs.co.in/blog/tag/data-science-course/\" class=\"tag-cloud-link tag-link-145 tag-link-position-23\" style=\"font-size: 13.060240963855pt;\" aria-label=\"data science course (7 items)\">data science course</a> <a href=\"https://www.analytixlabs.co.in/blog/tag/data-scientists/\" class=\"tag-cloud-link tag-link-69 tag-link-position-24\" style=\"font-size: 8pt;\" aria-label=\"Data Scientists (3 items)\">Data Scientists</a> <a href=\"https://www.analytixlabs.co.in/blog/tag/excel-training/\" class=\"tag-cloud-link tag-link-4 tag-link-position-25\" style=\"font-size: 8pt;\" aria-label=\"excel training (3 items)\">excel training</a> <a href=\"https://www.analytixlabs.co.in/blog/tag/hadoop/\" class=\"tag-cloud-link tag-link-62 tag-link-position-26\" style=\"font-size: 13.903614457831pt;\" aria-label=\"Hadoop (8 items)\">Hadoop</a> <a href=\"https://www.analytixlabs.co.in/blog/tag/hadoop-certification/\" class=\"tag-cloud-link tag-link-103 tag-link-position-27\" style=\"font-size: 8pt;\" aria-label=\"Hadoop certification (3 items)\">Hadoop certification</a> <a href=\"https://www.analytixlabs.co.in/blog/tag/hadoop-training/\" class=\"tag-cloud-link tag-link-63 tag-link-position-28\" style=\"font-size: 12.21686746988pt;\" aria-label=\"Hadoop Training (6 items)\">Hadoop Training</a> <a href=\"https://www.analytixlabs.co.in/blog/tag/machine-learning/\" class=\"tag-cloud-link tag-link-100 tag-link-position-29\" style=\"font-size: 22pt;\" aria-label=\"Machine learning (26 items)\">Machine learning</a> <a href=\"https://www.analytixlabs.co.in/blog/tag/machine-learning-algorithms/\" class=\"tag-cloud-link tag-link-184 tag-link-position-30\" style=\"font-size: 11.036144578313pt;\" aria-label=\"Machine Learning Algorithms (5 items)\">Machine Learning Algorithms</a> <a href=\"https://www.analytixlabs.co.in/blog/tag/machine-learning-course/\" class=\"tag-cloud-link tag-link-219 tag-link-position-31\" style=\"font-size: 13.903614457831pt;\" aria-label=\"machine learning course (8 items)\">machine learning course</a> <a href=\"https://www.analytixlabs.co.in/blog/tag/machine-learning-courses/\" class=\"tag-cloud-link tag-link-189 tag-link-position-32\" style=\"font-size: 11.036144578313pt;\" aria-label=\"Machine Learning Courses (5 items)\">Machine Learning Courses</a> <a href=\"https://www.analytixlabs.co.in/blog/tag/online-analytics-training/\" class=\"tag-cloud-link tag-link-24 tag-link-position-33\" style=\"font-size: 8pt;\" aria-label=\"online analytics training (3 items)\">online analytics training</a> <a href=\"https://www.analytixlabs.co.in/blog/tag/online-sas-training/\" class=\"tag-cloud-link tag-link-17 tag-link-position-34\" style=\"font-size: 13.903614457831pt;\" aria-label=\"online sas training (8 items)\">online sas training</a> <a href=\"https://www.analytixlabs.co.in/blog/tag/online-training/\" class=\"tag-cloud-link tag-link-5 tag-link-position-35\" style=\"font-size: 11.036144578313pt;\" aria-label=\"online training (5 items)\">online training</a> <a href=\"https://www.analytixlabs.co.in/blog/tag/python-data-science/\" class=\"tag-cloud-link tag-link-106 tag-link-position-36\" style=\"font-size: 11.036144578313pt;\" aria-label=\"Python data science (5 items)\">Python data science</a> <a href=\"https://www.analytixlabs.co.in/blog/tag/python-data-science-course/\" class=\"tag-cloud-link tag-link-108 tag-link-position-37\" style=\"font-size: 8pt;\" aria-label=\"Python data science course (3 items)\">Python data science course</a> <a href=\"https://www.analytixlabs.co.in/blog/tag/python-training/\" class=\"tag-cloud-link tag-link-109 tag-link-position-38\" style=\"font-size: 12.21686746988pt;\" aria-label=\"Python training (6 items)\">Python training</a> <a href=\"https://www.analytixlabs.co.in/blog/tag/r/\" class=\"tag-cloud-link tag-link-97 tag-link-position-39\" style=\"font-size: 8pt;\" aria-label=\"R (3 items)\">R</a> <a href=\"https://www.analytixlabs.co.in/blog/tag/r-training/\" class=\"tag-cloud-link tag-link-169 tag-link-position-40\" style=\"font-size: 11.036144578313pt;\" aria-label=\"r training (5 items)\">r training</a> <a href=\"https://www.analytixlabs.co.in/blog/tag/sas-certificate/\" class=\"tag-cloud-link tag-link-6 tag-link-position-41\" style=\"font-size: 12.21686746988pt;\" aria-label=\"sas certificate (6 items)\">sas certificate</a> <a href=\"https://www.analytixlabs.co.in/blog/tag/sas-courses/\" class=\"tag-cloud-link tag-link-7 tag-link-position-42\" style=\"font-size: 11.036144578313pt;\" aria-label=\"sas courses (5 items)\">sas courses</a> <a href=\"https://www.analytixlabs.co.in/blog/tag/sas-training/\" class=\"tag-cloud-link tag-link-8 tag-link-position-43\" style=\"font-size: 17.277108433735pt;\" aria-label=\"sas training (13 items)\">sas training</a> <a href=\"https://www.analytixlabs.co.in/blog/tag/spss-training/\" class=\"tag-cloud-link tag-link-9 tag-link-position-44\" style=\"font-size: 12.21686746988pt;\" aria-label=\"spss training (6 items)\">spss training</a> <a href=\"https://www.analytixlabs.co.in/blog/tag/technical-analysis-training/\" class=\"tag-cloud-link tag-link-12 tag-link-position-45\" style=\"font-size: 8pt;\" aria-label=\"technical analysis training (3 items)\">technical analysis training</a></div></li></ul></div></aside></div></div></div><footer class=\"main-footer bold bold-light\"><section class=\"upper-footer\"><div class=\"wrap\"><ul class=\"widgets ts-row cf\"><li id=\"bunyad-widget-social-2\" class=\"widget column col-4 widget-social\"><div class=\"social-icons\"> <a href=\"https://www.facebook.com/analytixlabs\" class=\"social-link\" target=\"_blank\"><i class=\"fa fa-facebook\"></i> <span class=\"visuallyhidden\">Facebook</span></a> <a href=\"https://twitter.com/AnalytixLabs\" class=\"social-link\" target=\"_blank\"><i class=\"fa fa-twitter\"></i> <span class=\"visuallyhidden\">Twitter</span></a> <a href=\"https://www.instagram.com/analytixlabs/?igshid=5outdkxzn8xq\" class=\"social-link\" target=\"_blank\"><i class=\"fa fa-instagram\"></i> <span class=\"visuallyhidden\">Instagram</span></a></div></li><li id=\"categories-4\" class=\"widget column col-4 widget_categories\"><h5 class=\"widget-title\">Categories</h5><ul><li class=\"cat-item cat-item-33\"><a href=\"https://www.analytixlabs.co.in/blog/category/analytics/\">Analytics</a> (32)</li><li class=\"cat-item cat-item-59\"><a href=\"https://www.analytixlabs.co.in/blog/category/artificial-intelligence/\">Artificial Intelligence</a> (47)</li><li class=\"cat-item cat-item-11\"><a href=\"https://www.analytixlabs.co.in/blog/category/big-data/\">Big Data</a> (26)</li><li class=\"cat-item cat-item-163\"><a href=\"https://www.analytixlabs.co.in/blog/category/big-data-machine-learning/\">Big data machine learning</a> (5)</li><li class=\"cat-item cat-item-36\"><a href=\"https://www.analytixlabs.co.in/blog/category/blog/\">Blog- AnalytixLabs</a> (86)</li><li class=\"cat-item cat-item-118\"><a href=\"https://www.analytixlabs.co.in/blog/category/business-analyst/\">Business Analyst</a> (17)</li><li class=\"cat-item cat-item-3\"><a href=\"https://www.analytixlabs.co.in/blog/category/business-analytics/\">Business Analytics</a> (54)</li><li class=\"cat-item cat-item-278\"><a href=\"https://www.analytixlabs.co.in/blog/category/business-intelligence/\">Business Intelligence</a> (2)</li><li class=\"cat-item cat-item-266\"><a href=\"https://www.analytixlabs.co.in/blog/category/cyber-security/\">Cyber Security</a> (4)</li><li class=\"cat-item cat-item-80\"><a href=\"https://www.analytixlabs.co.in/blog/category/data-analytics/\">Data Analytics</a> (26)</li><li class=\"cat-item cat-item-142\"><a href=\"https://www.analytixlabs.co.in/blog/category/data-science/\">Data Science</a> (61)</li><li class=\"cat-item cat-item-128\"><a href=\"https://www.analytixlabs.co.in/blog/category/data-visualisation/\">Data Visualisation</a> (2)</li><li class=\"cat-item cat-item-202\"><a href=\"https://www.analytixlabs.co.in/blog/category/deep-learning/\">Deep Learning</a> (8)</li><li class=\"cat-item cat-item-82\"><a href=\"https://www.analytixlabs.co.in/blog/category/hadoop-spark/\">Hadoop Spark</a> (2)</li><li class=\"cat-item cat-item-60\"><a href=\"https://www.analytixlabs.co.in/blog/category/machine-learning/\">Machine Learning</a> (68)</li><li class=\"cat-item cat-item-165\"><a href=\"https://www.analytixlabs.co.in/blog/category/python/\">Python</a> (18)</li><li class=\"cat-item cat-item-167\"><a href=\"https://www.analytixlabs.co.in/blog/category/r/\">R</a> (8)</li><li class=\"cat-item cat-item-285\"><a href=\"https://www.analytixlabs.co.in/blog/category/resume-writing/\">Resume writing</a> (1)</li><li class=\"cat-item cat-item-10\"><a href=\"https://www.analytixlabs.co.in/blog/category/sas/\">SAS</a> (11)</li><li class=\"cat-item cat-item-170\"><a href=\"https://www.analytixlabs.co.in/blog/category/tableau/\">Tableau</a> (1)</li></ul></li><li id=\"nav_menu-3\" class=\"widget column col-4 widget_nav_menu\"><h5 class=\"widget-title\">Navigation</h5><div class=\"menu-main-menu-container\"><ul id=\"menu-main-menu-1\" class=\"menu\"><li class=\"menu-item menu-item-type-custom menu-item-object-custom menu-item-5656\"><a href=\"https://www.analytixlabs.co.in/\">Home</a></li><li class=\"menu-item menu-item-type-custom menu-item-object-custom menu-item-5664\"><a href=\"https://www.analytixlabs.co.in/courses\">Courses</a></li><li class=\"menu-item menu-item-type-custom menu-item-object-custom menu-item-5665\"><a href=\"https://www.analytixlabs.co.in/offers\">Offers</a></li><li class=\"menu-item menu-item-type-custom menu-item-object-custom menu-item-5666\"><a href=\"https://www.analytixlabs.co.in/about-alabs\">Why Us</a></li><li class=\"menu-item menu-item-type-custom menu-item-object-custom menu-item-5667\"><a href=\"https://www.analytixlabs.co.in/about-faculty\">Instructors</a></li><li class=\"menu-item menu-item-type-custom menu-item-object-custom menu-item-5668\"><a href=\"https://www.analytixlabs.co.in/candidates-outsourcing\">Employers</a></li><li class=\"menu-item menu-item-type-custom menu-item-object-custom menu-item-home menu-item-5669\"><a href=\"https://www.analytixlabs.co.in/blog\">Blog</a></li><li class=\"menu-item menu-item-type-custom menu-item-object-custom menu-item-5670\"><a href=\"https://www.analytixlabs.co.in/contact-us\">Contact</a></li></ul></div></li></ul></div></section><section class=\"lower-footer cf\"><div class=\"wrap\"><ul class=\"social-icons\"><li> <a href=\"https://www.facebook.com/analytixlabs\" class=\"social-link\" target=\"_blank\" title=\"Facebook\"> <i class=\"fa fa-facebook\"></i> <span class=\"label\">Facebook</span> </a></li><li> <a href=\"https://twitter.com/AnalytixLabs\" class=\"social-link\" target=\"_blank\" title=\"Twitter\"> <i class=\"fa fa-twitter\"></i> <span class=\"label\">Twitter</span> </a></li><li> <a href=\"https://www.instagram.com/analytixlabs/?igshid=5outdkxzn8xq\" class=\"social-link\" target=\"_blank\" title=\"Instagram\"> <i class=\"fa fa-instagram\"></i> <span class=\"label\">Instagram</span> </a></li><li> <a href=\"#\" class=\"social-link\" target=\"_blank\" title=\"Pinterest\"> <i class=\"fa fa-pinterest-p\"></i> <span class=\"label\">Pinterest</span> </a></li><li> <a href=\"#\" class=\"social-link\" target=\"_blank\" title=\"Dribbble\"> <i class=\"fa fa-dribbble\"></i> <span class=\"label\">Dribbble</span> </a></li></ul><p class=\"copyright\">\\xc2\\xa9 2022 <a href=\"https://www.analytixlabs.co.in\">Analytixlabs</a>. All registered.</p><div class=\"to-top\"> <a href=\"#\" class=\"back-to-top\"><i class=\"fa fa-angle-up\"></i> Top</a></div></div></section></footer></div><div class=\"mobile-menu-container off-canvas\" id=\"mobile-menu\"> <a href=\"#\" class=\"close\"><i class=\"fa fa-times\"></i></a><div class=\"logo\"> <img class=\"mobile-logo\" src=\"data:image/svg+xml,%3Csvg%20xmlns=\\'http://www.w3.org/2000/svg\\'%20viewBox=\\'0%200%20135%2034\\'%3E%3C/svg%3E\" width=\"135\" height=\"34\" alt=\"Blogs &amp; Updates on Data Science, Business Analytics, AI Machine Learning\" data-lazy-src=\"//www.analytixlabs.co.in/blog/wp-content/uploads/2015/09/logo-3.png\" /><noscript><img class=\"mobile-logo\" src=\"//www.analytixlabs.co.in/blog/wp-content/uploads/2015/09/logo-3.png\" width=\"135\" height=\"34\" alt=\"Blogs &amp; Updates on Data Science, Business Analytics, AI Machine Learning\" /></noscript></div><ul class=\"mobile-menu\"></ul></div><div class=\"search-modal-wrap\"><div class=\"search-modal-box\" role=\"dialog\" aria-modal=\"true\"><form method=\"get\" class=\"search-form\" action=\"//www.analytixlabs.co.in/blog/\"> <input type=\"search\" class=\"search-field\" name=\"s\" placeholder=\"Search...\" value=\"\" required /> <button type=\"submit\" class=\"search-submit visuallyhidden\">Submit</button><p class=\"message\"> Type above and press <em>Enter</em> to search. Press <em>Esc</em> to cancel.</p></form></div></div> <script type=\\'text/javascript\\' src=\\'//www.analytixlabs.co.in/blog/wp-content/cache/busting/1/blog/wp-content/plugins/contact-form-7/includes/swv/js/index-5.7.2.js\\' id=\\'swv-js\\'></script> <script type=\\'text/javascript\\' id=\\'contact-form-7-js-extra\\'>/* <![CDATA[ */ var wpcf7 = {\"api\":{\"root\":\"https:\\\\/\\\\/www.analytixlabs.co.in\\\\/blog\\\\/wp-json\\\\/\",\"namespace\":\"contact-form-7\\\\/v1\"},\"cached\":\"1\"}; /* ]]> */</script> <script type=\\'text/javascript\\' src=\\'//www.analytixlabs.co.in/blog/wp-content/cache/busting/1/blog/wp-content/plugins/contact-form-7/includes/js/index-5.7.2.js\\' id=\\'contact-form-7-js\\'></script> <script type=\\'text/javascript\\' src=\\'//www.analytixlabs.co.in/blog/wp-content/cache/busting/1/blog/wp-content/themes/contentberg/js/magnific-popup-2.2.0.js\\' id=\\'magnific-popup-js\\'></script> <script type=\\'text/javascript\\' src=\\'//www.analytixlabs.co.in/blog/wp-content/cache/busting/1/blog/wp-content/themes/contentberg/js/jquery.fitvids-2.2.0.js\\' id=\\'jquery-fitvids-js\\'></script> <script type=\\'text/javascript\\' src=\\'//www.analytixlabs.co.in/blog/wp-content/cache/busting/1/blog/wp-includes/js/imagesloaded.min-4.1.4.js\\' id=\\'imagesloaded-js\\'></script> <script type=\\'text/javascript\\' src=\\'//www.analytixlabs.co.in/blog/wp-content/cache/busting/1/blog/wp-content/themes/contentberg/js/object-fit-images-2.2.0.js\\' id=\\'object-fit-images-js\\'></script> <script type=\\'text/javascript\\' id=\\'contentberg-theme-js-extra\\'>/* <![CDATA[ */ var Bunyad = {\"custom_ajax_url\":\"\\\\/blog\\\\/40-best-artificial-intelligence-quotes\\\\/\"}; /* ]]> */</script> <script type=\\'text/javascript\\' src=\\'//www.analytixlabs.co.in/blog/wp-content/cache/busting/1/blog/wp-content/themes/contentberg/js/theme-2.2.0.js\\' id=\\'contentberg-theme-js\\'></script> <script type=\\'text/javascript\\' src=\\'//www.analytixlabs.co.in/blog/wp-content/cache/busting/1/blog/wp-content/themes/contentberg/js/theia-sticky-sidebar-2.2.0.js\\' id=\\'theia-sticky-sidebar-js\\'></script> <script type=\\'text/javascript\\' src=\\'//www.analytixlabs.co.in/blog/wp-content/cache/busting/1/blog/wp-content/themes/contentberg/js/jquery.slick-2.2.0.js\\' id=\\'jquery-slick-js\\'></script> <script type=\\'text/javascript\\' src=\\'//www.analytixlabs.co.in/blog/wp-content/cache/busting/1/blog/wp-content/themes/contentberg/js/jarallax-2.2.0.js\\' id=\\'jarallax-js\\'></script> <script type=\\'text/javascript\\' src=\\'//www.analytixlabs.co.in/blog/wp-includes/js/comment-reply.min.js\\' id=\\'comment-reply-js\\'></script> <script type=\\'text/javascript\\' src=\\'//www.analytixlabs.co.in/blog/wp-content/cache/busting/1/blog/wp-content/plugins/easy-table-of-contents/vendor/js-cookie/js.cookie.min-2.2.1.js\\' id=\\'ez-toc-js-cookie-js\\'></script> <script type=\\'text/javascript\\' src=\\'//www.analytixlabs.co.in/blog/wp-content/cache/busting/1/blog/wp-content/plugins/easy-table-of-contents/vendor/sticky-kit/jquery.sticky-kit.min-1.9.2.js\\' id=\\'ez-toc-jquery-sticky-kit-js\\'></script> <script type=\\'text/javascript\\' id=\\'ez-toc-js-js-extra\\'>/* <![CDATA[ */ var ezTOC = {\"smooth_scroll\":\"1\",\"visibility_hide_by_default\":\"\",\"width\":\"auto\",\"scroll_offset\":\"30\"}; /* ]]> */</script> <script type=\\'text/javascript\\' src=\\'//www.analytixlabs.co.in/blog/wp-content/cache/busting/1/blog/wp-content/plugins/easy-table-of-contents/assets/js/front.min-2.0.44.1-1674648203.js\\' id=\\'ez-toc-js-js\\'></script> <script type=\\'text/javascript\\' id=\\'ez-toc-js-js-after\\'>let mobileContainer = document.querySelector(\"#mobile.vc_row-fluid\");\\nif(document.querySelectorAll(\"#mobile.vc_row-fluid\").length > 0) {\\n    let ezTocContainerUL = mobileContainer.querySelectorAll(\\'.ez-toc-link\\');\\n    let uniqID = \\'xs-sm-\\' + Math.random().toString(16).slice(2);\\n    for(let i = 0; i < ezTocContainerUL.length; i++) {\\n        let anchorHREF = ezTocContainerUL[i].getAttribute(\\'href\\');\\n        mobileContainer.querySelector(\"span.ez-toc-section\"+ anchorHREF).setAttribute(\\'id\\', anchorHREF.replace\\n            (\\'#\\',\\'\\') + \\'-\\' +\\n            uniqID);\\n        ezTocContainerUL[i].setAttribute(\\'href\\', anchorHREF + \\'-\\' + uniqID);\\n    }\\n    \\n    \\n}</script> <script defer type=\\'text/javascript\\' src=\\'//www.analytixlabs.co.in/blog/wp-content/cache/busting/1/blog/wp-content/plugins/akismet/_inc/akismet-frontend-1674648198.js\\' id=\\'akismet-frontend-js\\'></script> <script>window.lazyLoadOptions={elements_selector:\"img[data-lazy-src],.rocket-lazyload,iframe[data-lazy-src]\",data_src:\"lazy-src\",data_srcset:\"lazy-srcset\",data_sizes:\"lazy-sizes\",class_loading:\"lazyloading\",class_loaded:\"lazyloaded\",threshold:300,callback_loaded:function(element){if(element.tagName===\"IFRAME\"&&element.dataset.rocketLazyload==\"fitvidscompatible\"){if(element.classList.contains(\"lazyloaded\")){if(typeof window.jQuery!=\"undefined\"){if(jQuery.fn.fitVids){jQuery(element).parent().fitVids()}}}}}};window.addEventListener(\\'LazyLoad::Initialized\\',function(e){var lazyLoadInstance=e.detail.instance;if(window.MutationObserver){var observer=new MutationObserver(function(mutations){var image_count=0;var iframe_count=0;var rocketlazy_count=0;mutations.forEach(function(mutation){for(i=0;i<mutation.addedNodes.length;i++){if(typeof mutation.addedNodes[i].getElementsByTagName!==\\'function\\'){return}\\nif(typeof mutation.addedNodes[i].getElementsByClassName!==\\'function\\'){return}\\nimages=mutation.addedNodes[i].getElementsByTagName(\\'img\\');is_image=mutation.addedNodes[i].tagName==\"IMG\";iframes=mutation.addedNodes[i].getElementsByTagName(\\'iframe\\');is_iframe=mutation.addedNodes[i].tagName==\"IFRAME\";rocket_lazy=mutation.addedNodes[i].getElementsByClassName(\\'rocket-lazyload\\');image_count+=images.length;iframe_count+=iframes.length;rocketlazy_count+=rocket_lazy.length;if(is_image){image_count+=1}\\nif(is_iframe){iframe_count+=1}}});if(image_count>0||iframe_count>0||rocketlazy_count>0){lazyLoadInstance.update()}});var b=document.getElementsByTagName(\"body\")[0];var config={childList:!0,subtree:!0};observer.observe(b,config)}},!1)</script><script data-no-minify=\"1\" async src=\"//www.analytixlabs.co.in/blog/wp-content/plugins/wp-rocket/assets/js/lazyload/12.0/lazyload.min.js\"></script><script>function lazyLoadThumb(e){var t=\\'<img loading=\"lazy\" data-lazy-src=\"//i.ytimg.com/vi/ID/hqdefault.jpg\" alt=\"\" width=\"480\" height=\"360\"><noscript><img src=\"//i.ytimg.com/vi/ID/hqdefault.jpg\" alt=\"\" width=\"480\" height=\"360\"></noscript>\\',a=\\'<div class=\"play\"></div>\\';return t.replace(\"ID\",e)+a}function lazyLoadYoutubeIframe(){var e=document.createElement(\"iframe\"),t=\"ID?autoplay=1\";t+=0===this.dataset.query.length?\\'\\':\\'&\\'+this.dataset.query;e.setAttribute(\"src\",t.replace(\"ID\",this.dataset.src)),e.setAttribute(\"frameborder\",\"0\"),e.setAttribute(\"allowfullscreen\",\"1\"),e.setAttribute(\"allow\", \"accelerometer; autoplay; encrypted-media; gyroscope; picture-in-picture\"),this.parentNode.replaceChild(e,this)}document.addEventListener(\"DOMContentLoaded\",function(){var e,t,a=document.getElementsByClassName(\"rll-youtube-player\");for(t=0;t<a.length;t++)e=document.createElement(\"div\"),e.setAttribute(\"data-id\",a[t].dataset.id),e.setAttribute(\"data-query\", a[t].dataset.query),e.setAttribute(\"data-src\", a[t].dataset.src),e.innerHTML=lazyLoadThumb(a[t].dataset.id),e.onclick=lazyLoadYoutubeIframe,a[t].appendChild(e)});</script> <script defer src=\"https://static.cloudflareinsights.com/beacon.min.js/vaafb692b2aea4879b33c060e79fe94621666317369993\" integrity=\"sha512-0ahDYl866UMhKuYcW078ScMalXqtFJggm7TmlUtp0UlD4eQk0Ixfnm5ykXKvGJNFjLMoortdseTfsRT8oCfgGA==\" data-cf-beacon=\\'{\"rayId\":\"79a434d65f16b183\",\"token\":\"fe1892a7da274dad92e695b235fcefc2\",\"version\":\"2023.2.0\",\"si\":100}\\' crossorigin=\"anonymous\"></script>\\n</body></html>\\n'\n"
          ]
        }
      ]
    },
    {
      "cell_type": "code",
      "source": [
        "soup = BeautifulSoup(r.content, 'html.parser')\n",
        "print(soup.prettify())"
      ],
      "metadata": {
        "id": "Qz3sgJNde4gB"
      },
      "execution_count": null,
      "outputs": []
    },
    {
      "cell_type": "code",
      "source": [
        "print(soup.title)\n",
        "print(soup.title.name)\n",
        "print(soup.title.parent.name)"
      ],
      "metadata": {
        "colab": {
          "base_uri": "https://localhost:8080/"
        },
        "id": "nf7klbq2fdgv",
        "outputId": "bd84da81-438e-4315-a36e-89d31812a8b3"
      },
      "execution_count": 136,
      "outputs": [
        {
          "output_type": "stream",
          "name": "stdout",
          "text": [
            "<title>40 Best artificial intelligence quotes</title>\n",
            "title\n",
            "head\n"
          ]
        }
      ]
    },
    {
      "cell_type": "code",
      "source": [
        "s = soup.find('div', class_ = 'post-content')\n",
        "content = s.find_all('p')"
      ],
      "metadata": {
        "id": "QhBTZxo_ftwa"
      },
      "execution_count": 137,
      "outputs": []
    },
    {
      "cell_type": "code",
      "source": [
        "content"
      ],
      "metadata": {
        "id": "ddM-81OCgjLS"
      },
      "execution_count": null,
      "outputs": []
    },
    {
      "cell_type": "code",
      "source": [
        "lines = s.find_all('p')\n",
        "\n",
        "for line in lines:\n",
        "  print(line.text)"
      ],
      "metadata": {
        "id": "XHlZhsxjgwT9"
      },
      "execution_count": null,
      "outputs": []
    },
    {
      "cell_type": "code",
      "source": [
        "# Extracting links \n",
        "for link in soup.find_all('a'):\n",
        "  print(link.get('href'))"
      ],
      "metadata": {
        "id": "0B4uMiCrhKSz"
      },
      "execution_count": null,
      "outputs": []
    },
    {
      "cell_type": "markdown",
      "source": [
        "Image Scraping not required"
      ],
      "metadata": {
        "id": "RocZ5oIMiZ--"
      }
    },
    {
      "cell_type": "code",
      "source": [
        "images_list = []\n",
        "images = soup.select('img')\n",
        "for image in images:\n",
        "  src = image.get('src')\n",
        "  alt = image.get('alt')\n",
        "  images_list.append({\"src\":src, \"alt\":alt})\n",
        "\n",
        "for image in images_list:\n",
        "  print(image)"
      ],
      "metadata": {
        "id": "y08bvgKVh4lG"
      },
      "execution_count": null,
      "outputs": []
    },
    {
      "cell_type": "code",
      "source": [],
      "metadata": {
        "id": "rk_J3cVDjOSH"
      },
      "execution_count": null,
      "outputs": []
    },
    {
      "cell_type": "code",
      "source": [
        "URL = 'https://www.analytixlabs.co.in/blog/40-best-artificial-intelligence-quotes/'\n",
        "req = requests.get(URL)\n",
        "soup = BeautifulSoup(req.text, 'html.parser')\n",
        "\n",
        "titles = soup.find_all('p')\n",
        "titles"
      ],
      "metadata": {
        "id": "paf919CMics1"
      },
      "execution_count": null,
      "outputs": []
    },
    {
      "cell_type": "code",
      "source": [
        "type(titles[0])"
      ],
      "metadata": {
        "colab": {
          "base_uri": "https://localhost:8080/"
        },
        "id": "Tark2keDjWH0",
        "outputId": "7d0aaddc-9d12-40c1-f7d0-fc07bd91ed7a"
      },
      "execution_count": 144,
      "outputs": [
        {
          "output_type": "execute_result",
          "data": {
            "text/plain": [
              "bs4.element.Tag"
            ]
          },
          "metadata": {},
          "execution_count": 144
        }
      ]
    },
    {
      "cell_type": "code",
      "source": [
        "import csv\n"
      ],
      "metadata": {
        "id": "Msgd3gjdtU2H"
      },
      "execution_count": 145,
      "outputs": []
    },
    {
      "cell_type": "code",
      "source": [
        "titles = titles[5:]"
      ],
      "metadata": {
        "id": "sbQ6P8h5trCq"
      },
      "execution_count": 176,
      "outputs": []
    },
    {
      "cell_type": "code",
      "source": [
        "titles = titles[:-7]"
      ],
      "metadata": {
        "id": "yVsTTrDU4EFI"
      },
      "execution_count": 177,
      "outputs": []
    },
    {
      "cell_type": "code",
      "source": [
        "titles.remove(titles[18])"
      ],
      "metadata": {
        "id": "yAL7uUoY4dmT"
      },
      "execution_count": 178,
      "outputs": []
    },
    {
      "cell_type": "code",
      "source": [
        "titles.remove(titles[32])"
      ],
      "metadata": {
        "id": "00Tq4yxG4_O5"
      },
      "execution_count": 179,
      "outputs": []
    },
    {
      "cell_type": "code",
      "source": [
        "titles.remove(titles[46])"
      ],
      "metadata": {
        "id": "2nTQ9a3L7bmz"
      },
      "execution_count": 180,
      "outputs": []
    },
    {
      "cell_type": "code",
      "source": [
        "titles.remove(titles[64])"
      ],
      "metadata": {
        "id": "60FgWkK87nuK"
      },
      "execution_count": 181,
      "outputs": []
    },
    {
      "cell_type": "code",
      "source": [
        "# count = 1\n",
        "# titles_list = []\n",
        "# for title in titles:\n",
        "#   d = {}\n",
        "#   d['Author Number'] = f'Title{count}'\n",
        "#   d['Author Name'] = title.text\n",
        "#   count += 1\n",
        "#   titles_list.append(d)\n",
        "\n",
        "# filename = '/content/submit.csv'\n",
        "# with open(filename, 'w', newline = '') as f:\n",
        "#   w = csv.DictWriter(f, ['Author Number', 'Author Name'])\n",
        "#   w.writeheader()\n",
        "#   w.writerows(titles_list)\n"
      ],
      "metadata": {
        "id": "OznQtnSUo0dc"
      },
      "execution_count": 100,
      "outputs": []
    },
    {
      "cell_type": "code",
      "source": [
        "count = 1\n",
        "count1 = 0\n",
        "count2 = 1\n",
        "titles_list = []\n",
        "for i in range(len(titles)//2):\n",
        "  d = {}\n",
        "  d['Author Number'] = f'{count}'\n",
        "  d['Author Quote'] = titles[count1].text\n",
        "  d['Author Name'] = titles[count2].text\n",
        "  count += 1\n",
        "  count1 += 2\n",
        "  count2 += 2\n",
        "  titles_list.append(d)\n",
        "\n",
        "filename = '/content/submit.csv'\n",
        "with open(filename, 'w', newline = '') as f:\n",
        "  w = csv.DictWriter(f, ['Author Number', 'Author Quote', 'Author Name'])\n",
        "  w.writeheader()\n",
        "  w.writerows(titles_list)"
      ],
      "metadata": {
        "id": "TF0LsDJGt2VH"
      },
      "execution_count": 182,
      "outputs": []
    },
    {
      "cell_type": "markdown",
      "source": [
        "For the 2nd website"
      ],
      "metadata": {
        "id": "p_oEDjU29hQ3"
      }
    },
    {
      "cell_type": "code",
      "source": [
        "# import requests\n",
        "r2 = requests.get('https://greatperformersacademy.com/motivation/the-200-best-inspirational-and-motivational-quotes-ever')\n",
        "# print(r2)\n",
        "r2.content"
      ],
      "metadata": {
        "id": "ommCkGodu68g"
      },
      "execution_count": null,
      "outputs": []
    },
    {
      "cell_type": "code",
      "source": [
        "soup = BeautifulSoup(r2.content, 'html.parser')\n",
        "print(soup.prettify())"
      ],
      "metadata": {
        "id": "ujbWDIz19qx6"
      },
      "execution_count": null,
      "outputs": []
    },
    {
      "cell_type": "code",
      "source": [
        "s = soup.find('section', class_ = 'article-content')\n",
        "content = s.find_all('p')\n",
        "content"
      ],
      "metadata": {
        "id": "fiojqYQz9vF-"
      },
      "execution_count": null,
      "outputs": []
    },
    {
      "cell_type": "code",
      "source": [
        "lines = s.find_all('p')\n",
        "\n",
        "for line in lines:\n",
        "  print(line.text)"
      ],
      "metadata": {
        "id": "4zN4hPYO-EX0"
      },
      "execution_count": null,
      "outputs": []
    },
    {
      "cell_type": "code",
      "source": [
        "URL = 'https://greatperformersacademy.com/motivation/the-200-best-inspirational-and-motivational-quotes-ever'\n",
        "req = requests.get(URL)\n",
        "soup = BeautifulSoup(req.text, 'html.parser')\n",
        "\n",
        "titles2 = soup.find_all('p')"
      ],
      "metadata": {
        "id": "0pcsDIRqOy8q"
      },
      "execution_count": 263,
      "outputs": []
    },
    {
      "cell_type": "code",
      "source": [
        "filename = '/content/submit1.csv'\n",
        "# opening the file with w+ mode truncates the file\n",
        "f = open(filename, \"w+\")\n",
        "f.truncate()\n",
        "f.close()"
      ],
      "metadata": {
        "id": "IT-0Wna1PYV7"
      },
      "execution_count": 264,
      "outputs": []
    },
    {
      "cell_type": "code",
      "source": [
        "count = 1\n",
        "titles_list = []\n",
        "titles2 = titles2[2:-3]\n",
        "for title in titles2:\n",
        "  temp = title.text\n",
        "  try:\n",
        "    temp2 = temp.split('-')\n",
        "  except ValueError:\n",
        "    temp2 = ['empty', 'empty']\n",
        "  d = {}\n",
        "  d['Author Number'] = f'{count+40}'\n",
        "  d['Author Quote'] = temp2[0]\n",
        "  d['Author Name'] = temp2[1]\n",
        "  count += 1\n",
        "  titles_list.append(d)\n",
        "  \n",
        "\n",
        "filename = '/content/submit.csv'\n",
        "with open(filename, 'a', newline = '') as f:\n",
        "  w = csv.DictWriter(f, ['Author Number', 'Author Quote', 'Author Name'])\n",
        "  w.writeheader()\n",
        "  w.writerows(titles_list)\n"
      ],
      "metadata": {
        "id": "yWg0Tcj6O_i1"
      },
      "execution_count": 265,
      "outputs": []
    },
    {
      "cell_type": "code",
      "source": [
        "s = soup.find('div', class_ = 'post-content')\n",
        "content = s.find_all('h2')\n",
        "content"
      ],
      "metadata": {
        "colab": {
          "base_uri": "https://localhost:8080/",
          "height": 200
        },
        "id": "9HzEAM9xUFsT",
        "outputId": "4141aa91-191e-4dde-b8a2-95208e75ccdd"
      },
      "execution_count": 252,
      "outputs": [
        {
          "output_type": "error",
          "ename": "AttributeError",
          "evalue": "ignored",
          "traceback": [
            "\u001b[0;31m---------------------------------------------------------------------------\u001b[0m",
            "\u001b[0;31mAttributeError\u001b[0m                            Traceback (most recent call last)",
            "\u001b[0;32m<ipython-input-252-c4fa72e0b606>\u001b[0m in \u001b[0;36m<module>\u001b[0;34m\u001b[0m\n\u001b[1;32m      1\u001b[0m \u001b[0ms\u001b[0m \u001b[0;34m=\u001b[0m \u001b[0msoup\u001b[0m\u001b[0;34m.\u001b[0m\u001b[0mfind\u001b[0m\u001b[0;34m(\u001b[0m\u001b[0;34m'div'\u001b[0m\u001b[0;34m,\u001b[0m \u001b[0mclass_\u001b[0m \u001b[0;34m=\u001b[0m \u001b[0;34m'post-content'\u001b[0m\u001b[0;34m)\u001b[0m\u001b[0;34m\u001b[0m\u001b[0;34m\u001b[0m\u001b[0m\n\u001b[0;32m----> 2\u001b[0;31m \u001b[0mcontent\u001b[0m \u001b[0;34m=\u001b[0m \u001b[0ms\u001b[0m\u001b[0;34m.\u001b[0m\u001b[0mfind_all\u001b[0m\u001b[0;34m(\u001b[0m\u001b[0;34m'h2'\u001b[0m\u001b[0;34m)\u001b[0m\u001b[0;34m\u001b[0m\u001b[0;34m\u001b[0m\u001b[0m\n\u001b[0m\u001b[1;32m      3\u001b[0m \u001b[0mcontent\u001b[0m\u001b[0;34m\u001b[0m\u001b[0;34m\u001b[0m\u001b[0m\n",
            "\u001b[0;31mAttributeError\u001b[0m: 'NoneType' object has no attribute 'find_all'"
          ]
        }
      ]
    },
    {
      "cell_type": "code",
      "source": [
        "categories = soup.find_all('h2')\n",
        "categories"
      ],
      "metadata": {
        "colab": {
          "base_uri": "https://localhost:8080/"
        },
        "id": "xtplPjE4TcHb",
        "outputId": "b1607740-9b6a-4927-f91b-9f6e9da03ab8"
      },
      "execution_count": 248,
      "outputs": [
        {
          "output_type": "execute_result",
          "data": {
            "text/plain": [
              "[]"
            ]
          },
          "metadata": {},
          "execution_count": 248
        }
      ]
    },
    {
      "cell_type": "code",
      "source": [],
      "metadata": {
        "id": "IZvgan-iPf3k"
      },
      "execution_count": null,
      "outputs": []
    }
  ],
  "metadata": {
    "colab": {
      "provenance": [],
      "include_colab_link": true
    },
    "kernelspec": {
      "display_name": "Python 3",
      "name": "python3"
    },
    "language_info": {
      "name": "python"
    }
  },
  "nbformat": 4,
  "nbformat_minor": 0
}